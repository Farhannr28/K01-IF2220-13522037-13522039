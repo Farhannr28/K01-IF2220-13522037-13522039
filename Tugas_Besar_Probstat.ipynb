{
  "nbformat": 4,
  "nbformat_minor": 0,
  "metadata": {
    "colab": {
      "provenance": [],
      "collapsed_sections": [
        "M4N9sjz4Ue2e",
        "x_RoltQGNeHs",
        "NrDLKjFER9yK",
        "n8-UeFo5Vcz7",
        "yEI_Sk1nWxT1",
        "xSc6jtmlSX-6",
        "WgPFHCsXTI9i",
        "tjtoOlSxT1Gj",
        "mUXfzoFQXI4i",
        "7pr-UHnqXcKa",
        "JnbY-_DPXyzx"
      ],
      "include_colab_link": true
    },
    "kernelspec": {
      "name": "python3",
      "display_name": "Python 3"
    },
    "language_info": {
      "name": "python"
    }
  },
  "cells": [
    {
      "cell_type": "markdown",
      "metadata": {
        "id": "view-in-github",
        "colab_type": "text"
      },
      "source": [
        "<a href=\"https://colab.research.google.com/github/Farhannr28/K01-IF2220-13522037-13522039/blob/main/Tugas_Besar_Probstat.ipynb\" target=\"_parent\"><img src=\"https://colab.research.google.com/assets/colab-badge.svg\" alt=\"Open In Colab\"/></a>"
      ]
    },
    {
      "cell_type": "markdown",
      "source": [
        "# Dataset Health\n",
        "## Farhan Nafis Rayhan - 13522037\n",
        "## Edbert Eddyson Gunawan - 13522039\n"
      ],
      "metadata": {
        "id": "qTyiELm4Tbzw"
      }
    },
    {
      "cell_type": "markdown",
      "source": [
        "## Setup Dataset"
      ],
      "metadata": {
        "id": "YQWnHGMPV4TI"
      }
    },
    {
      "cell_type": "code",
      "source": [
        "import pandas as pd\n",
        "import matplotlib.pyplot as plt\n",
        "from IPython.display import display"
      ],
      "metadata": {
        "id": "IXhjOHaAV7mp"
      },
      "execution_count": null,
      "outputs": []
    },
    {
      "cell_type": "code",
      "source": [
        "main_df = pd.read_csv('health.csv')\n",
        "main_df.head()"
      ],
      "metadata": {
        "colab": {
          "base_uri": "https://localhost:8080/",
          "height": 330
        },
        "id": "WZHI5-_xV9lv",
        "outputId": "62e9450d-2c10-4615-d318-eec54a5f0420"
      },
      "execution_count": null,
      "outputs": [
        {
          "output_type": "execute_result",
          "data": {
            "text/plain": [
              "   Unnamed: 0  Age        Income  Gender          Education  Stress_Level  \\\n",
              "0           0   50  3.093457e+06    Male  Bachelor's Degree      4.967887   \n",
              "1           1   44  5.545445e+06    Male  Bachelor's Degree      5.833649   \n",
              "2           2   25  4.401808e+06    Male    Master's Degree      5.587946   \n",
              "3           3   41  4.606865e+06  Female        High School      6.271119   \n",
              "4           4   24  6.956049e+06    Male  Bachelor's Degree      5.895226   \n",
              "\n",
              "   Exercise_Hours_Per_Week  Cholesterol_Level     Weight      Height  \\\n",
              "0                16.632494         200.419036  70.917032  150.401537   \n",
              "1                13.255988         201.010046  70.669576  149.285349   \n",
              "2                11.144370         200.105258  67.464506  150.020695   \n",
              "3                 9.140268         199.648701  67.566598  150.360963   \n",
              "4                 9.775610         199.330152  79.601530  149.730525   \n",
              "\n",
              "   Blood_Pressure Health_Status  \n",
              "0      125.568820     Excellent  \n",
              "1      125.603505          Fair  \n",
              "2      127.093163     Excellent  \n",
              "3      117.388100          Poor  \n",
              "4      114.163706          Fair  "
            ],
            "text/html": [
              "\n",
              "  <div id=\"df-63c28135-c985-4709-ae7e-e6b94bf52a5b\" class=\"colab-df-container\">\n",
              "    <div>\n",
              "<style scoped>\n",
              "    .dataframe tbody tr th:only-of-type {\n",
              "        vertical-align: middle;\n",
              "    }\n",
              "\n",
              "    .dataframe tbody tr th {\n",
              "        vertical-align: top;\n",
              "    }\n",
              "\n",
              "    .dataframe thead th {\n",
              "        text-align: right;\n",
              "    }\n",
              "</style>\n",
              "<table border=\"1\" class=\"dataframe\">\n",
              "  <thead>\n",
              "    <tr style=\"text-align: right;\">\n",
              "      <th></th>\n",
              "      <th>Unnamed: 0</th>\n",
              "      <th>Age</th>\n",
              "      <th>Income</th>\n",
              "      <th>Gender</th>\n",
              "      <th>Education</th>\n",
              "      <th>Stress_Level</th>\n",
              "      <th>Exercise_Hours_Per_Week</th>\n",
              "      <th>Cholesterol_Level</th>\n",
              "      <th>Weight</th>\n",
              "      <th>Height</th>\n",
              "      <th>Blood_Pressure</th>\n",
              "      <th>Health_Status</th>\n",
              "    </tr>\n",
              "  </thead>\n",
              "  <tbody>\n",
              "    <tr>\n",
              "      <th>0</th>\n",
              "      <td>0</td>\n",
              "      <td>50</td>\n",
              "      <td>3.093457e+06</td>\n",
              "      <td>Male</td>\n",
              "      <td>Bachelor's Degree</td>\n",
              "      <td>4.967887</td>\n",
              "      <td>16.632494</td>\n",
              "      <td>200.419036</td>\n",
              "      <td>70.917032</td>\n",
              "      <td>150.401537</td>\n",
              "      <td>125.568820</td>\n",
              "      <td>Excellent</td>\n",
              "    </tr>\n",
              "    <tr>\n",
              "      <th>1</th>\n",
              "      <td>1</td>\n",
              "      <td>44</td>\n",
              "      <td>5.545445e+06</td>\n",
              "      <td>Male</td>\n",
              "      <td>Bachelor's Degree</td>\n",
              "      <td>5.833649</td>\n",
              "      <td>13.255988</td>\n",
              "      <td>201.010046</td>\n",
              "      <td>70.669576</td>\n",
              "      <td>149.285349</td>\n",
              "      <td>125.603505</td>\n",
              "      <td>Fair</td>\n",
              "    </tr>\n",
              "    <tr>\n",
              "      <th>2</th>\n",
              "      <td>2</td>\n",
              "      <td>25</td>\n",
              "      <td>4.401808e+06</td>\n",
              "      <td>Male</td>\n",
              "      <td>Master's Degree</td>\n",
              "      <td>5.587946</td>\n",
              "      <td>11.144370</td>\n",
              "      <td>200.105258</td>\n",
              "      <td>67.464506</td>\n",
              "      <td>150.020695</td>\n",
              "      <td>127.093163</td>\n",
              "      <td>Excellent</td>\n",
              "    </tr>\n",
              "    <tr>\n",
              "      <th>3</th>\n",
              "      <td>3</td>\n",
              "      <td>41</td>\n",
              "      <td>4.606865e+06</td>\n",
              "      <td>Female</td>\n",
              "      <td>High School</td>\n",
              "      <td>6.271119</td>\n",
              "      <td>9.140268</td>\n",
              "      <td>199.648701</td>\n",
              "      <td>67.566598</td>\n",
              "      <td>150.360963</td>\n",
              "      <td>117.388100</td>\n",
              "      <td>Poor</td>\n",
              "    </tr>\n",
              "    <tr>\n",
              "      <th>4</th>\n",
              "      <td>4</td>\n",
              "      <td>24</td>\n",
              "      <td>6.956049e+06</td>\n",
              "      <td>Male</td>\n",
              "      <td>Bachelor's Degree</td>\n",
              "      <td>5.895226</td>\n",
              "      <td>9.775610</td>\n",
              "      <td>199.330152</td>\n",
              "      <td>79.601530</td>\n",
              "      <td>149.730525</td>\n",
              "      <td>114.163706</td>\n",
              "      <td>Fair</td>\n",
              "    </tr>\n",
              "  </tbody>\n",
              "</table>\n",
              "</div>\n",
              "    <div class=\"colab-df-buttons\">\n",
              "\n",
              "  <div class=\"colab-df-container\">\n",
              "    <button class=\"colab-df-convert\" onclick=\"convertToInteractive('df-63c28135-c985-4709-ae7e-e6b94bf52a5b')\"\n",
              "            title=\"Convert this dataframe to an interactive table.\"\n",
              "            style=\"display:none;\">\n",
              "\n",
              "  <svg xmlns=\"http://www.w3.org/2000/svg\" height=\"24px\" viewBox=\"0 -960 960 960\">\n",
              "    <path d=\"M120-120v-720h720v720H120Zm60-500h600v-160H180v160Zm220 220h160v-160H400v160Zm0 220h160v-160H400v160ZM180-400h160v-160H180v160Zm440 0h160v-160H620v160ZM180-180h160v-160H180v160Zm440 0h160v-160H620v160Z\"/>\n",
              "  </svg>\n",
              "    </button>\n",
              "\n",
              "  <style>\n",
              "    .colab-df-container {\n",
              "      display:flex;\n",
              "      gap: 12px;\n",
              "    }\n",
              "\n",
              "    .colab-df-convert {\n",
              "      background-color: #E8F0FE;\n",
              "      border: none;\n",
              "      border-radius: 50%;\n",
              "      cursor: pointer;\n",
              "      display: none;\n",
              "      fill: #1967D2;\n",
              "      height: 32px;\n",
              "      padding: 0 0 0 0;\n",
              "      width: 32px;\n",
              "    }\n",
              "\n",
              "    .colab-df-convert:hover {\n",
              "      background-color: #E2EBFA;\n",
              "      box-shadow: 0px 1px 2px rgba(60, 64, 67, 0.3), 0px 1px 3px 1px rgba(60, 64, 67, 0.15);\n",
              "      fill: #174EA6;\n",
              "    }\n",
              "\n",
              "    .colab-df-buttons div {\n",
              "      margin-bottom: 4px;\n",
              "    }\n",
              "\n",
              "    [theme=dark] .colab-df-convert {\n",
              "      background-color: #3B4455;\n",
              "      fill: #D2E3FC;\n",
              "    }\n",
              "\n",
              "    [theme=dark] .colab-df-convert:hover {\n",
              "      background-color: #434B5C;\n",
              "      box-shadow: 0px 1px 3px 1px rgba(0, 0, 0, 0.15);\n",
              "      filter: drop-shadow(0px 1px 2px rgba(0, 0, 0, 0.3));\n",
              "      fill: #FFFFFF;\n",
              "    }\n",
              "  </style>\n",
              "\n",
              "    <script>\n",
              "      const buttonEl =\n",
              "        document.querySelector('#df-63c28135-c985-4709-ae7e-e6b94bf52a5b button.colab-df-convert');\n",
              "      buttonEl.style.display =\n",
              "        google.colab.kernel.accessAllowed ? 'block' : 'none';\n",
              "\n",
              "      async function convertToInteractive(key) {\n",
              "        const element = document.querySelector('#df-63c28135-c985-4709-ae7e-e6b94bf52a5b');\n",
              "        const dataTable =\n",
              "          await google.colab.kernel.invokeFunction('convertToInteractive',\n",
              "                                                    [key], {});\n",
              "        if (!dataTable) return;\n",
              "\n",
              "        const docLinkHtml = 'Like what you see? Visit the ' +\n",
              "          '<a target=\"_blank\" href=https://colab.research.google.com/notebooks/data_table.ipynb>data table notebook</a>'\n",
              "          + ' to learn more about interactive tables.';\n",
              "        element.innerHTML = '';\n",
              "        dataTable['output_type'] = 'display_data';\n",
              "        await google.colab.output.renderOutput(dataTable, element);\n",
              "        const docLink = document.createElement('div');\n",
              "        docLink.innerHTML = docLinkHtml;\n",
              "        element.appendChild(docLink);\n",
              "      }\n",
              "    </script>\n",
              "  </div>\n",
              "\n",
              "\n",
              "<div id=\"df-514b0144-6406-435c-9df3-ee75139f0ee9\">\n",
              "  <button class=\"colab-df-quickchart\" onclick=\"quickchart('df-514b0144-6406-435c-9df3-ee75139f0ee9')\"\n",
              "            title=\"Suggest charts\"\n",
              "            style=\"display:none;\">\n",
              "\n",
              "<svg xmlns=\"http://www.w3.org/2000/svg\" height=\"24px\"viewBox=\"0 0 24 24\"\n",
              "     width=\"24px\">\n",
              "    <g>\n",
              "        <path d=\"M19 3H5c-1.1 0-2 .9-2 2v14c0 1.1.9 2 2 2h14c1.1 0 2-.9 2-2V5c0-1.1-.9-2-2-2zM9 17H7v-7h2v7zm4 0h-2V7h2v10zm4 0h-2v-4h2v4z\"/>\n",
              "    </g>\n",
              "</svg>\n",
              "  </button>\n",
              "\n",
              "<style>\n",
              "  .colab-df-quickchart {\n",
              "      --bg-color: #E8F0FE;\n",
              "      --fill-color: #1967D2;\n",
              "      --hover-bg-color: #E2EBFA;\n",
              "      --hover-fill-color: #174EA6;\n",
              "      --disabled-fill-color: #AAA;\n",
              "      --disabled-bg-color: #DDD;\n",
              "  }\n",
              "\n",
              "  [theme=dark] .colab-df-quickchart {\n",
              "      --bg-color: #3B4455;\n",
              "      --fill-color: #D2E3FC;\n",
              "      --hover-bg-color: #434B5C;\n",
              "      --hover-fill-color: #FFFFFF;\n",
              "      --disabled-bg-color: #3B4455;\n",
              "      --disabled-fill-color: #666;\n",
              "  }\n",
              "\n",
              "  .colab-df-quickchart {\n",
              "    background-color: var(--bg-color);\n",
              "    border: none;\n",
              "    border-radius: 50%;\n",
              "    cursor: pointer;\n",
              "    display: none;\n",
              "    fill: var(--fill-color);\n",
              "    height: 32px;\n",
              "    padding: 0;\n",
              "    width: 32px;\n",
              "  }\n",
              "\n",
              "  .colab-df-quickchart:hover {\n",
              "    background-color: var(--hover-bg-color);\n",
              "    box-shadow: 0 1px 2px rgba(60, 64, 67, 0.3), 0 1px 3px 1px rgba(60, 64, 67, 0.15);\n",
              "    fill: var(--button-hover-fill-color);\n",
              "  }\n",
              "\n",
              "  .colab-df-quickchart-complete:disabled,\n",
              "  .colab-df-quickchart-complete:disabled:hover {\n",
              "    background-color: var(--disabled-bg-color);\n",
              "    fill: var(--disabled-fill-color);\n",
              "    box-shadow: none;\n",
              "  }\n",
              "\n",
              "  .colab-df-spinner {\n",
              "    border: 2px solid var(--fill-color);\n",
              "    border-color: transparent;\n",
              "    border-bottom-color: var(--fill-color);\n",
              "    animation:\n",
              "      spin 1s steps(1) infinite;\n",
              "  }\n",
              "\n",
              "  @keyframes spin {\n",
              "    0% {\n",
              "      border-color: transparent;\n",
              "      border-bottom-color: var(--fill-color);\n",
              "      border-left-color: var(--fill-color);\n",
              "    }\n",
              "    20% {\n",
              "      border-color: transparent;\n",
              "      border-left-color: var(--fill-color);\n",
              "      border-top-color: var(--fill-color);\n",
              "    }\n",
              "    30% {\n",
              "      border-color: transparent;\n",
              "      border-left-color: var(--fill-color);\n",
              "      border-top-color: var(--fill-color);\n",
              "      border-right-color: var(--fill-color);\n",
              "    }\n",
              "    40% {\n",
              "      border-color: transparent;\n",
              "      border-right-color: var(--fill-color);\n",
              "      border-top-color: var(--fill-color);\n",
              "    }\n",
              "    60% {\n",
              "      border-color: transparent;\n",
              "      border-right-color: var(--fill-color);\n",
              "    }\n",
              "    80% {\n",
              "      border-color: transparent;\n",
              "      border-right-color: var(--fill-color);\n",
              "      border-bottom-color: var(--fill-color);\n",
              "    }\n",
              "    90% {\n",
              "      border-color: transparent;\n",
              "      border-bottom-color: var(--fill-color);\n",
              "    }\n",
              "  }\n",
              "</style>\n",
              "\n",
              "  <script>\n",
              "    async function quickchart(key) {\n",
              "      const quickchartButtonEl =\n",
              "        document.querySelector('#' + key + ' button');\n",
              "      quickchartButtonEl.disabled = true;  // To prevent multiple clicks.\n",
              "      quickchartButtonEl.classList.add('colab-df-spinner');\n",
              "      try {\n",
              "        const charts = await google.colab.kernel.invokeFunction(\n",
              "            'suggestCharts', [key], {});\n",
              "      } catch (error) {\n",
              "        console.error('Error during call to suggestCharts:', error);\n",
              "      }\n",
              "      quickchartButtonEl.classList.remove('colab-df-spinner');\n",
              "      quickchartButtonEl.classList.add('colab-df-quickchart-complete');\n",
              "    }\n",
              "    (() => {\n",
              "      let quickchartButtonEl =\n",
              "        document.querySelector('#df-514b0144-6406-435c-9df3-ee75139f0ee9 button');\n",
              "      quickchartButtonEl.style.display =\n",
              "        google.colab.kernel.accessAllowed ? 'block' : 'none';\n",
              "    })();\n",
              "  </script>\n",
              "</div>\n",
              "    </div>\n",
              "  </div>\n"
            ],
            "application/vnd.google.colaboratory.intrinsic+json": {
              "type": "dataframe",
              "variable_name": "main_df",
              "summary": "{\n  \"name\": \"main_df\",\n  \"rows\": 2000,\n  \"fields\": [\n    {\n      \"column\": \"Unnamed: 0\",\n      \"properties\": {\n        \"dtype\": \"number\",\n        \"std\": 577,\n        \"min\": 0,\n        \"max\": 1999,\n        \"num_unique_values\": 2000,\n        \"samples\": [\n          1860,\n          353,\n          1333\n        ],\n        \"semantic_type\": \"\",\n        \"description\": \"\"\n      }\n    },\n    {\n      \"column\": \"Age\",\n      \"properties\": {\n        \"dtype\": \"number\",\n        \"std\": 11,\n        \"min\": 20,\n        \"max\": 59,\n        \"num_unique_values\": 40,\n        \"samples\": [\n          45,\n          42,\n          30\n        ],\n        \"semantic_type\": \"\",\n        \"description\": \"\"\n      }\n    },\n    {\n      \"column\": \"Income\",\n      \"properties\": {\n        \"dtype\": \"number\",\n        \"std\": 2010795.0245210964,\n        \"min\": -1088986.5264049638,\n        \"max\": 12227492.23,\n        \"num_unique_values\": 2000,\n        \"samples\": [\n          762855.3133508926,\n          4813438.25946021,\n          4742442.835889614\n        ],\n        \"semantic_type\": \"\",\n        \"description\": \"\"\n      }\n    },\n    {\n      \"column\": \"Gender\",\n      \"properties\": {\n        \"dtype\": \"category\",\n        \"num_unique_values\": 2,\n        \"samples\": [\n          \"Female\",\n          \"Male\"\n        ],\n        \"semantic_type\": \"\",\n        \"description\": \"\"\n      }\n    },\n    {\n      \"column\": \"Education\",\n      \"properties\": {\n        \"dtype\": \"category\",\n        \"num_unique_values\": 6,\n        \"samples\": [\n          \"Bachelor's Degree\",\n          \"Master's Degree\"\n        ],\n        \"semantic_type\": \"\",\n        \"description\": \"\"\n      }\n    },\n    {\n      \"column\": \"Stress_Level\",\n      \"properties\": {\n        \"dtype\": \"number\",\n        \"std\": 0.9170690832886778,\n        \"min\": 2.5280566074548134,\n        \"max\": 8.581327169902938,\n        \"num_unique_values\": 2000,\n        \"samples\": [\n          3.982568588262677,\n          5.207406979626477\n        ],\n        \"semantic_type\": \"\",\n        \"description\": \"\"\n      }\n    },\n    {\n      \"column\": \"Exercise_Hours_Per_Week\",\n      \"properties\": {\n        \"dtype\": \"number\",\n        \"std\": 4.9095733928560295,\n        \"min\": -4.499310499524835,\n        \"max\": 26.81635846744048,\n        \"num_unique_values\": 2000,\n        \"samples\": [\n          12.60588517382562,\n          7.14432884027735\n        ],\n        \"semantic_type\": \"\",\n        \"description\": \"\"\n      }\n    },\n    {\n      \"column\": \"Cholesterol_Level\",\n      \"properties\": {\n        \"dtype\": \"number\",\n        \"std\": 0.9725937951705401,\n        \"min\": 196.91494770774705,\n        \"max\": 203.16233499776052,\n        \"num_unique_values\": 2000,\n        \"samples\": [\n          199.23528971059935,\n          200.6751069606281\n        ],\n        \"semantic_type\": \"\",\n        \"description\": \"\"\n      }\n    },\n    {\n      \"column\": \"Weight\",\n      \"properties\": {\n        \"dtype\": \"number\",\n        \"std\": 10.174342847464978,\n        \"min\": 32.5817576131084,\n        \"max\": 109.60956203109714,\n        \"num_unique_values\": 2000,\n        \"samples\": [\n          83.89950017203489,\n          60.35612435499999\n        ],\n        \"semantic_type\": \"\",\n        \"description\": \"\"\n      }\n    },\n    {\n      \"column\": \"Height\",\n      \"properties\": {\n        \"dtype\": \"number\",\n        \"std\": 0.6804431819678791,\n        \"min\": 149.12459377317003,\n        \"max\": 153.87046894881826,\n        \"num_unique_values\": 2000,\n        \"samples\": [\n          150.81069285225715,\n          150.1841305852827\n        ],\n        \"semantic_type\": \"\",\n        \"description\": \"\"\n      }\n    },\n    {\n      \"column\": \"Blood_Pressure\",\n      \"properties\": {\n        \"dtype\": \"number\",\n        \"std\": 11.20141248818825,\n        \"min\": 0.0,\n        \"max\": 200.95,\n        \"num_unique_values\": 1999,\n        \"samples\": [\n          115.7583146748256,\n          134.65725594995297\n        ],\n        \"semantic_type\": \"\",\n        \"description\": \"\"\n      }\n    },\n    {\n      \"column\": \"Health_Status\",\n      \"properties\": {\n        \"dtype\": \"category\",\n        \"num_unique_values\": 4,\n        \"samples\": [\n          \"Fair\",\n          \"Good\"\n        ],\n        \"semantic_type\": \"\",\n        \"description\": \"\"\n      }\n    }\n  ]\n}"
            }
          },
          "metadata": {},
          "execution_count": 3
        }
      ]
    },
    {
      "cell_type": "code",
      "source": [
        "main_df.describe()"
      ],
      "metadata": {
        "colab": {
          "base_uri": "https://localhost:8080/",
          "height": 320
        },
        "id": "NmWTti8QYZzZ",
        "outputId": "7b39c969-50ff-415a-e655-791a09a8ed37"
      },
      "execution_count": null,
      "outputs": [
        {
          "output_type": "execute_result",
          "data": {
            "text/plain": [
              "        Unnamed: 0          Age        Income  Stress_Level  \\\n",
              "count  2000.000000  2000.000000  2.000000e+03   2000.000000   \n",
              "mean    999.500000    39.417500  4.889928e+06      5.356912   \n",
              "std     577.494589    11.560753  2.010795e+06      0.917069   \n",
              "min       0.000000    20.000000 -1.088987e+06      2.528057   \n",
              "25%     499.750000    30.000000  3.580714e+06      4.737650   \n",
              "50%     999.500000    39.000000  4.898901e+06      5.351795   \n",
              "75%    1499.250000    49.250000  6.271595e+06      6.003014   \n",
              "max    1999.000000    59.000000  1.222749e+07      8.581327   \n",
              "\n",
              "       Exercise_Hours_Per_Week  Cholesterol_Level       Weight       Height  \\\n",
              "count              2000.000000        2000.000000  2000.000000  2000.000000   \n",
              "mean                  9.951842         200.223191    70.234359   150.730565   \n",
              "std                   4.909573           0.972594    10.174343     0.680443   \n",
              "min                  -4.499310         196.914948    32.581758   149.124594   \n",
              "25%                   6.654951         199.581975    63.654894   150.240019   \n",
              "50%                   9.927028         200.221522    70.392125   150.663619   \n",
              "75%                  13.232218         200.873647    76.894512   151.140489   \n",
              "max                  26.816358         203.162335   109.609562   153.870469   \n",
              "\n",
              "       Blood_Pressure  \n",
              "count     2000.000000  \n",
              "mean       119.682437  \n",
              "std         11.201412  \n",
              "min          0.000000  \n",
              "25%        113.048602  \n",
              "50%        119.937396  \n",
              "75%        126.608781  \n",
              "max        200.950000  "
            ],
            "text/html": [
              "\n",
              "  <div id=\"df-6dab82c7-2d02-4f7c-a4f5-927e56369da0\" class=\"colab-df-container\">\n",
              "    <div>\n",
              "<style scoped>\n",
              "    .dataframe tbody tr th:only-of-type {\n",
              "        vertical-align: middle;\n",
              "    }\n",
              "\n",
              "    .dataframe tbody tr th {\n",
              "        vertical-align: top;\n",
              "    }\n",
              "\n",
              "    .dataframe thead th {\n",
              "        text-align: right;\n",
              "    }\n",
              "</style>\n",
              "<table border=\"1\" class=\"dataframe\">\n",
              "  <thead>\n",
              "    <tr style=\"text-align: right;\">\n",
              "      <th></th>\n",
              "      <th>Unnamed: 0</th>\n",
              "      <th>Age</th>\n",
              "      <th>Income</th>\n",
              "      <th>Stress_Level</th>\n",
              "      <th>Exercise_Hours_Per_Week</th>\n",
              "      <th>Cholesterol_Level</th>\n",
              "      <th>Weight</th>\n",
              "      <th>Height</th>\n",
              "      <th>Blood_Pressure</th>\n",
              "    </tr>\n",
              "  </thead>\n",
              "  <tbody>\n",
              "    <tr>\n",
              "      <th>count</th>\n",
              "      <td>2000.000000</td>\n",
              "      <td>2000.000000</td>\n",
              "      <td>2.000000e+03</td>\n",
              "      <td>2000.000000</td>\n",
              "      <td>2000.000000</td>\n",
              "      <td>2000.000000</td>\n",
              "      <td>2000.000000</td>\n",
              "      <td>2000.000000</td>\n",
              "      <td>2000.000000</td>\n",
              "    </tr>\n",
              "    <tr>\n",
              "      <th>mean</th>\n",
              "      <td>999.500000</td>\n",
              "      <td>39.417500</td>\n",
              "      <td>4.889928e+06</td>\n",
              "      <td>5.356912</td>\n",
              "      <td>9.951842</td>\n",
              "      <td>200.223191</td>\n",
              "      <td>70.234359</td>\n",
              "      <td>150.730565</td>\n",
              "      <td>119.682437</td>\n",
              "    </tr>\n",
              "    <tr>\n",
              "      <th>std</th>\n",
              "      <td>577.494589</td>\n",
              "      <td>11.560753</td>\n",
              "      <td>2.010795e+06</td>\n",
              "      <td>0.917069</td>\n",
              "      <td>4.909573</td>\n",
              "      <td>0.972594</td>\n",
              "      <td>10.174343</td>\n",
              "      <td>0.680443</td>\n",
              "      <td>11.201412</td>\n",
              "    </tr>\n",
              "    <tr>\n",
              "      <th>min</th>\n",
              "      <td>0.000000</td>\n",
              "      <td>20.000000</td>\n",
              "      <td>-1.088987e+06</td>\n",
              "      <td>2.528057</td>\n",
              "      <td>-4.499310</td>\n",
              "      <td>196.914948</td>\n",
              "      <td>32.581758</td>\n",
              "      <td>149.124594</td>\n",
              "      <td>0.000000</td>\n",
              "    </tr>\n",
              "    <tr>\n",
              "      <th>25%</th>\n",
              "      <td>499.750000</td>\n",
              "      <td>30.000000</td>\n",
              "      <td>3.580714e+06</td>\n",
              "      <td>4.737650</td>\n",
              "      <td>6.654951</td>\n",
              "      <td>199.581975</td>\n",
              "      <td>63.654894</td>\n",
              "      <td>150.240019</td>\n",
              "      <td>113.048602</td>\n",
              "    </tr>\n",
              "    <tr>\n",
              "      <th>50%</th>\n",
              "      <td>999.500000</td>\n",
              "      <td>39.000000</td>\n",
              "      <td>4.898901e+06</td>\n",
              "      <td>5.351795</td>\n",
              "      <td>9.927028</td>\n",
              "      <td>200.221522</td>\n",
              "      <td>70.392125</td>\n",
              "      <td>150.663619</td>\n",
              "      <td>119.937396</td>\n",
              "    </tr>\n",
              "    <tr>\n",
              "      <th>75%</th>\n",
              "      <td>1499.250000</td>\n",
              "      <td>49.250000</td>\n",
              "      <td>6.271595e+06</td>\n",
              "      <td>6.003014</td>\n",
              "      <td>13.232218</td>\n",
              "      <td>200.873647</td>\n",
              "      <td>76.894512</td>\n",
              "      <td>151.140489</td>\n",
              "      <td>126.608781</td>\n",
              "    </tr>\n",
              "    <tr>\n",
              "      <th>max</th>\n",
              "      <td>1999.000000</td>\n",
              "      <td>59.000000</td>\n",
              "      <td>1.222749e+07</td>\n",
              "      <td>8.581327</td>\n",
              "      <td>26.816358</td>\n",
              "      <td>203.162335</td>\n",
              "      <td>109.609562</td>\n",
              "      <td>153.870469</td>\n",
              "      <td>200.950000</td>\n",
              "    </tr>\n",
              "  </tbody>\n",
              "</table>\n",
              "</div>\n",
              "    <div class=\"colab-df-buttons\">\n",
              "\n",
              "  <div class=\"colab-df-container\">\n",
              "    <button class=\"colab-df-convert\" onclick=\"convertToInteractive('df-6dab82c7-2d02-4f7c-a4f5-927e56369da0')\"\n",
              "            title=\"Convert this dataframe to an interactive table.\"\n",
              "            style=\"display:none;\">\n",
              "\n",
              "  <svg xmlns=\"http://www.w3.org/2000/svg\" height=\"24px\" viewBox=\"0 -960 960 960\">\n",
              "    <path d=\"M120-120v-720h720v720H120Zm60-500h600v-160H180v160Zm220 220h160v-160H400v160Zm0 220h160v-160H400v160ZM180-400h160v-160H180v160Zm440 0h160v-160H620v160ZM180-180h160v-160H180v160Zm440 0h160v-160H620v160Z\"/>\n",
              "  </svg>\n",
              "    </button>\n",
              "\n",
              "  <style>\n",
              "    .colab-df-container {\n",
              "      display:flex;\n",
              "      gap: 12px;\n",
              "    }\n",
              "\n",
              "    .colab-df-convert {\n",
              "      background-color: #E8F0FE;\n",
              "      border: none;\n",
              "      border-radius: 50%;\n",
              "      cursor: pointer;\n",
              "      display: none;\n",
              "      fill: #1967D2;\n",
              "      height: 32px;\n",
              "      padding: 0 0 0 0;\n",
              "      width: 32px;\n",
              "    }\n",
              "\n",
              "    .colab-df-convert:hover {\n",
              "      background-color: #E2EBFA;\n",
              "      box-shadow: 0px 1px 2px rgba(60, 64, 67, 0.3), 0px 1px 3px 1px rgba(60, 64, 67, 0.15);\n",
              "      fill: #174EA6;\n",
              "    }\n",
              "\n",
              "    .colab-df-buttons div {\n",
              "      margin-bottom: 4px;\n",
              "    }\n",
              "\n",
              "    [theme=dark] .colab-df-convert {\n",
              "      background-color: #3B4455;\n",
              "      fill: #D2E3FC;\n",
              "    }\n",
              "\n",
              "    [theme=dark] .colab-df-convert:hover {\n",
              "      background-color: #434B5C;\n",
              "      box-shadow: 0px 1px 3px 1px rgba(0, 0, 0, 0.15);\n",
              "      filter: drop-shadow(0px 1px 2px rgba(0, 0, 0, 0.3));\n",
              "      fill: #FFFFFF;\n",
              "    }\n",
              "  </style>\n",
              "\n",
              "    <script>\n",
              "      const buttonEl =\n",
              "        document.querySelector('#df-6dab82c7-2d02-4f7c-a4f5-927e56369da0 button.colab-df-convert');\n",
              "      buttonEl.style.display =\n",
              "        google.colab.kernel.accessAllowed ? 'block' : 'none';\n",
              "\n",
              "      async function convertToInteractive(key) {\n",
              "        const element = document.querySelector('#df-6dab82c7-2d02-4f7c-a4f5-927e56369da0');\n",
              "        const dataTable =\n",
              "          await google.colab.kernel.invokeFunction('convertToInteractive',\n",
              "                                                    [key], {});\n",
              "        if (!dataTable) return;\n",
              "\n",
              "        const docLinkHtml = 'Like what you see? Visit the ' +\n",
              "          '<a target=\"_blank\" href=https://colab.research.google.com/notebooks/data_table.ipynb>data table notebook</a>'\n",
              "          + ' to learn more about interactive tables.';\n",
              "        element.innerHTML = '';\n",
              "        dataTable['output_type'] = 'display_data';\n",
              "        await google.colab.output.renderOutput(dataTable, element);\n",
              "        const docLink = document.createElement('div');\n",
              "        docLink.innerHTML = docLinkHtml;\n",
              "        element.appendChild(docLink);\n",
              "      }\n",
              "    </script>\n",
              "  </div>\n",
              "\n",
              "\n",
              "<div id=\"df-1e1f7616-13dc-493e-a254-a0d445aeac9e\">\n",
              "  <button class=\"colab-df-quickchart\" onclick=\"quickchart('df-1e1f7616-13dc-493e-a254-a0d445aeac9e')\"\n",
              "            title=\"Suggest charts\"\n",
              "            style=\"display:none;\">\n",
              "\n",
              "<svg xmlns=\"http://www.w3.org/2000/svg\" height=\"24px\"viewBox=\"0 0 24 24\"\n",
              "     width=\"24px\">\n",
              "    <g>\n",
              "        <path d=\"M19 3H5c-1.1 0-2 .9-2 2v14c0 1.1.9 2 2 2h14c1.1 0 2-.9 2-2V5c0-1.1-.9-2-2-2zM9 17H7v-7h2v7zm4 0h-2V7h2v10zm4 0h-2v-4h2v4z\"/>\n",
              "    </g>\n",
              "</svg>\n",
              "  </button>\n",
              "\n",
              "<style>\n",
              "  .colab-df-quickchart {\n",
              "      --bg-color: #E8F0FE;\n",
              "      --fill-color: #1967D2;\n",
              "      --hover-bg-color: #E2EBFA;\n",
              "      --hover-fill-color: #174EA6;\n",
              "      --disabled-fill-color: #AAA;\n",
              "      --disabled-bg-color: #DDD;\n",
              "  }\n",
              "\n",
              "  [theme=dark] .colab-df-quickchart {\n",
              "      --bg-color: #3B4455;\n",
              "      --fill-color: #D2E3FC;\n",
              "      --hover-bg-color: #434B5C;\n",
              "      --hover-fill-color: #FFFFFF;\n",
              "      --disabled-bg-color: #3B4455;\n",
              "      --disabled-fill-color: #666;\n",
              "  }\n",
              "\n",
              "  .colab-df-quickchart {\n",
              "    background-color: var(--bg-color);\n",
              "    border: none;\n",
              "    border-radius: 50%;\n",
              "    cursor: pointer;\n",
              "    display: none;\n",
              "    fill: var(--fill-color);\n",
              "    height: 32px;\n",
              "    padding: 0;\n",
              "    width: 32px;\n",
              "  }\n",
              "\n",
              "  .colab-df-quickchart:hover {\n",
              "    background-color: var(--hover-bg-color);\n",
              "    box-shadow: 0 1px 2px rgba(60, 64, 67, 0.3), 0 1px 3px 1px rgba(60, 64, 67, 0.15);\n",
              "    fill: var(--button-hover-fill-color);\n",
              "  }\n",
              "\n",
              "  .colab-df-quickchart-complete:disabled,\n",
              "  .colab-df-quickchart-complete:disabled:hover {\n",
              "    background-color: var(--disabled-bg-color);\n",
              "    fill: var(--disabled-fill-color);\n",
              "    box-shadow: none;\n",
              "  }\n",
              "\n",
              "  .colab-df-spinner {\n",
              "    border: 2px solid var(--fill-color);\n",
              "    border-color: transparent;\n",
              "    border-bottom-color: var(--fill-color);\n",
              "    animation:\n",
              "      spin 1s steps(1) infinite;\n",
              "  }\n",
              "\n",
              "  @keyframes spin {\n",
              "    0% {\n",
              "      border-color: transparent;\n",
              "      border-bottom-color: var(--fill-color);\n",
              "      border-left-color: var(--fill-color);\n",
              "    }\n",
              "    20% {\n",
              "      border-color: transparent;\n",
              "      border-left-color: var(--fill-color);\n",
              "      border-top-color: var(--fill-color);\n",
              "    }\n",
              "    30% {\n",
              "      border-color: transparent;\n",
              "      border-left-color: var(--fill-color);\n",
              "      border-top-color: var(--fill-color);\n",
              "      border-right-color: var(--fill-color);\n",
              "    }\n",
              "    40% {\n",
              "      border-color: transparent;\n",
              "      border-right-color: var(--fill-color);\n",
              "      border-top-color: var(--fill-color);\n",
              "    }\n",
              "    60% {\n",
              "      border-color: transparent;\n",
              "      border-right-color: var(--fill-color);\n",
              "    }\n",
              "    80% {\n",
              "      border-color: transparent;\n",
              "      border-right-color: var(--fill-color);\n",
              "      border-bottom-color: var(--fill-color);\n",
              "    }\n",
              "    90% {\n",
              "      border-color: transparent;\n",
              "      border-bottom-color: var(--fill-color);\n",
              "    }\n",
              "  }\n",
              "</style>\n",
              "\n",
              "  <script>\n",
              "    async function quickchart(key) {\n",
              "      const quickchartButtonEl =\n",
              "        document.querySelector('#' + key + ' button');\n",
              "      quickchartButtonEl.disabled = true;  // To prevent multiple clicks.\n",
              "      quickchartButtonEl.classList.add('colab-df-spinner');\n",
              "      try {\n",
              "        const charts = await google.colab.kernel.invokeFunction(\n",
              "            'suggestCharts', [key], {});\n",
              "      } catch (error) {\n",
              "        console.error('Error during call to suggestCharts:', error);\n",
              "      }\n",
              "      quickchartButtonEl.classList.remove('colab-df-spinner');\n",
              "      quickchartButtonEl.classList.add('colab-df-quickchart-complete');\n",
              "    }\n",
              "    (() => {\n",
              "      let quickchartButtonEl =\n",
              "        document.querySelector('#df-1e1f7616-13dc-493e-a254-a0d445aeac9e button');\n",
              "      quickchartButtonEl.style.display =\n",
              "        google.colab.kernel.accessAllowed ? 'block' : 'none';\n",
              "    })();\n",
              "  </script>\n",
              "</div>\n",
              "    </div>\n",
              "  </div>\n"
            ],
            "application/vnd.google.colaboratory.intrinsic+json": {
              "type": "dataframe",
              "summary": "{\n  \"name\": \"main_df\",\n  \"rows\": 8,\n  \"fields\": [\n    {\n      \"column\": \"Unnamed: 0\",\n      \"properties\": {\n        \"dtype\": \"number\",\n        \"std\": 720.5907738498884,\n        \"min\": 0.0,\n        \"max\": 2000.0,\n        \"num_unique_values\": 7,\n        \"samples\": [\n          2000.0,\n          999.5,\n          1499.25\n        ],\n        \"semantic_type\": \"\",\n        \"description\": \"\"\n      }\n    },\n    {\n      \"column\": \"Age\",\n      \"properties\": {\n        \"dtype\": \"number\",\n        \"std\": 694.7351672091845,\n        \"min\": 11.560753403633772,\n        \"max\": 2000.0,\n        \"num_unique_values\": 8,\n        \"samples\": [\n          39.4175,\n          39.0,\n          2000.0\n        ],\n        \"semantic_type\": \"\",\n        \"description\": \"\"\n      }\n    },\n    {\n      \"column\": \"Income\",\n      \"properties\": {\n        \"dtype\": \"number\",\n        \"std\": 4147078.119502055,\n        \"min\": -1088986.5264049638,\n        \"max\": 12227492.23,\n        \"num_unique_values\": 8,\n        \"samples\": [\n          4889928.319474319,\n          4898900.675226251,\n          2000.0\n        ],\n        \"semantic_type\": \"\",\n        \"description\": \"\"\n      }\n    },\n    {\n      \"column\": \"Stress_Level\",\n      \"properties\": {\n        \"dtype\": \"number\",\n        \"std\": 705.4197028935333,\n        \"min\": 0.9170690832886778,\n        \"max\": 2000.0,\n        \"num_unique_values\": 8,\n        \"samples\": [\n          5.3569120065455555,\n          5.351794512097912,\n          2000.0\n        ],\n        \"semantic_type\": \"\",\n        \"description\": \"\"\n      }\n    },\n    {\n      \"column\": \"Exercise_Hours_Per_Week\",\n      \"properties\": {\n        \"dtype\": \"number\",\n        \"std\": 703.7778766713805,\n        \"min\": -4.499310499524835,\n        \"max\": 2000.0,\n        \"num_unique_values\": 8,\n        \"samples\": [\n          9.951841679993532,\n          9.927028040259284,\n          2000.0\n        ],\n        \"semantic_type\": \"\",\n        \"description\": \"\"\n      }\n    },\n    {\n      \"column\": \"Cholesterol_Level\",\n      \"properties\": {\n        \"dtype\": \"number\",\n        \"std\": 650.1485438223003,\n        \"min\": 0.9725937951705401,\n        \"max\": 2000.0,\n        \"num_unique_values\": 8,\n        \"samples\": [\n          200.22319088556523,\n          200.2215215611355,\n          2000.0\n        ],\n        \"semantic_type\": \"\",\n        \"description\": \"\"\n      }\n    },\n    {\n      \"column\": \"Weight\",\n      \"properties\": {\n        \"dtype\": \"number\",\n        \"std\": 685.8536298931773,\n        \"min\": 10.174342847464978,\n        \"max\": 2000.0,\n        \"num_unique_values\": 8,\n        \"samples\": [\n          70.23435871505947,\n          70.3921249240397,\n          2000.0\n        ],\n        \"semantic_type\": \"\",\n        \"description\": \"\"\n      }\n    },\n    {\n      \"column\": \"Height\",\n      \"properties\": {\n        \"dtype\": \"number\",\n        \"std\": 663.4130231047033,\n        \"min\": 0.6804431819678791,\n        \"max\": 2000.0,\n        \"num_unique_values\": 8,\n        \"samples\": [\n          150.73056490095638,\n          150.6636188089309,\n          2000.0\n        ],\n        \"semantic_type\": \"\",\n        \"description\": \"\"\n      }\n    },\n    {\n      \"column\": \"Blood_Pressure\",\n      \"properties\": {\n        \"dtype\": \"number\",\n        \"std\": 675.3360540008823,\n        \"min\": 0.0,\n        \"max\": 2000.0,\n        \"num_unique_values\": 8,\n        \"samples\": [\n          119.68243694519857,\n          119.93739629658657,\n          2000.0\n        ],\n        \"semantic_type\": \"\",\n        \"description\": \"\"\n      }\n    }\n  ]\n}"
            }
          },
          "metadata": {},
          "execution_count": 4
        }
      ]
    },
    {
      "cell_type": "code",
      "source": [
        "main_df.dtypes"
      ],
      "metadata": {
        "colab": {
          "base_uri": "https://localhost:8080/"
        },
        "id": "9G9P3_Hte7c4",
        "outputId": "82e4e9f4-e88f-4d76-f99c-6bcb3949ffc4"
      },
      "execution_count": null,
      "outputs": [
        {
          "output_type": "execute_result",
          "data": {
            "text/plain": [
              "Unnamed: 0                   int64\n",
              "Age                          int64\n",
              "Income                     float64\n",
              "Gender                      object\n",
              "Education                   object\n",
              "Stress_Level               float64\n",
              "Exercise_Hours_Per_Week    float64\n",
              "Cholesterol_Level          float64\n",
              "Weight                     float64\n",
              "Height                     float64\n",
              "Blood_Pressure             float64\n",
              "Health_Status               object\n",
              "dtype: object"
            ]
          },
          "metadata": {},
          "execution_count": 5
        }
      ]
    },
    {
      "cell_type": "markdown",
      "source": [
        "## **1. Deskripsi statistika**\n",
        "\n",
        "Menulis deskripsi statistika (Descriptive Statistics) dari semua kolom pada data. Data yang bersifat numerik dapat diberikan nilai mean, median, modus, standar deviasi, variansi, range, nilai minimum, maksimum, kuartil, IQR, skewness dan kurtosis. Data dalam bentuk string dapat dicari unique values, dan proporsi nya.\n"
      ],
      "metadata": {
        "id": "PnYvFF-tUNla"
      }
    },
    {
      "cell_type": "markdown",
      "source": [
        "### Fungsi Buatan"
      ],
      "metadata": {
        "id": "M4N9sjz4Ue2e"
      }
    },
    {
      "cell_type": "code",
      "source": [
        "def getMean(column: pd.core.series.Series):\n",
        "  if(column.dtypes != 'O'):\n",
        "    return sum(column) / len(column)\n",
        "\n",
        "def getMedian(column: pd.core.series.Series):\n",
        "  if(column.dtypes != 'O'):\n",
        "    column = column.sort_values()\n",
        "    mid = column.size // 2\n",
        "\n",
        "    if column.size % 2 == 0:\n",
        "      return (column.iloc[mid-1] + column.iloc[mid]) / 2\n",
        "\n",
        "    return column[mid]\n",
        "\n",
        "def getModus(column: pd.core.series.Series):\n",
        "  dictionary_element = {}\n",
        "  for x in column:\n",
        "    if x in dictionary_element:\n",
        "      dictionary_element[x] += 1\n",
        "    else:\n",
        "      dictionary_element.setdefault(x, 1)\n",
        "  # print(column.mode())\n",
        "  return max(dictionary_element, key=lambda k: dictionary_element[k])\n",
        "\n",
        "def getStd(column: pd.core.series.Series):\n",
        "  std_dev = getVariance(column) ** 0.5\n",
        "  return std_dev\n",
        "\n",
        "def getVariance(column: pd.core.series.Series):\n",
        "  mean_val = getMean(column)\n",
        "  squared_diff = [(x - mean_val) ** 2 for x in column]\n",
        "  variance = sum(squared_diff) / len(column)\n",
        "  return variance\n",
        "\n",
        "def getRange(column: pd.core.series.Series):\n",
        "  return getMax(column) - getMin(column)\n",
        "\n",
        "def getMax(column: pd.core.series.Series):\n",
        "  return max(column)\n",
        "\n",
        "def getMin(column: pd.core.series.Series):\n",
        "  return min(column)\n",
        "\n",
        "def getKuartil(column: pd.core.series.Series):\n",
        "  column = column.sort_values()\n",
        "\n",
        "  q2 = getMedian(column)\n",
        "  lower_half = [x for x in column if x < q2]\n",
        "  upper_half = [x for x in column if x > q2]\n",
        "  lower_half = pd.Series(lower_half)\n",
        "  upper_half = pd.Series(upper_half)\n",
        "  q1 = getMedian(lower_half)\n",
        "  q3 = getMedian(upper_half)\n",
        "  return [q1, q2, q3]\n",
        "\n",
        "def getInterKuartil(column: pd.core.series.Series):\n",
        "  quartile = getKuartil(column)\n",
        "  return quartile[2] - quartile[0]\n",
        "\n",
        "def getSkewness(column: pd.core.series.Series):\n",
        "  return sum((x - getMean(column)) ** 3 for x in column) / (len(column) * getStd(column) ** 3)\n",
        "\n",
        "def kurtosis(column: pd.core.series.Series):\n",
        "  return sum((x - getMean(column)) ** 4 for x in column) / (len(column) * getStd(column) ** 4) - 3\n",
        "\n",
        "def getUnique(column: pd.core.series.Series):\n",
        "  unique_set = set()\n",
        "  for x in column:\n",
        "    unique_set.add(x)\n",
        "  return unique_set\n",
        "\n",
        "def getProportion(column: pd.core.series.Series):\n",
        "  dictionary_element = {}\n",
        "  for x in column:\n",
        "    if x in dictionary_element:\n",
        "      dictionary_element[x] += 1\n",
        "    else:\n",
        "      dictionary_element.setdefault(x, 1)\n",
        "\n",
        "  sum_val = sum(dictionary_element.values())\n",
        "  for x in dictionary_element:\n",
        "    dictionary_element[x] /= sum_val\n",
        "\n",
        "  return dictionary_element\n",
        "\n",
        "def showInfo(column: pd.core.series.Series):\n",
        "  if(column.dtypes != 'O'):\n",
        "    getMean(column)\n",
        "    getMedian(column)\n",
        "  else:\n",
        "    getUnique()\n",
        "    getProportion()"
      ],
      "metadata": {
        "id": "ZUTg3FVmfPfT"
      },
      "execution_count": null,
      "outputs": []
    },
    {
      "cell_type": "markdown",
      "source": [
        "### A) Deskripsi Statistika Income"
      ],
      "metadata": {
        "id": "x_RoltQGNeHs"
      }
    },
    {
      "cell_type": "code",
      "execution_count": null,
      "metadata": {
        "colab": {
          "base_uri": "https://localhost:8080/"
        },
        "id": "NigiDSORMpLJ",
        "outputId": "bd2a97b0-6f2e-4bcd-83ce-8d974053112f"
      },
      "outputs": [
        {
          "output_type": "execute_result",
          "data": {
            "text/plain": [
              "0       3.093457e+06\n",
              "1       5.545445e+06\n",
              "2       4.401808e+06\n",
              "3       4.606865e+06\n",
              "4       6.956049e+06\n",
              "            ...     \n",
              "1995    2.072546e+06\n",
              "1996    7.456909e+06\n",
              "1997    5.560391e+06\n",
              "1998    3.436759e+06\n",
              "1999    3.343102e+06\n",
              "Name: Income, Length: 2000, dtype: float64"
            ]
          },
          "metadata": {},
          "execution_count": 25
        }
      ],
      "source": [
        "main_df['Age']"
      ]
    },
    {
      "cell_type": "code",
      "source": [
        "x = getMean(main_df['Age'])\n",
        "print(\"Rata-rata: \" + str(x))\n",
        "x = getMedian(main_df['Age'])\n",
        "print(\"Median: \" + str(x))\n",
        "x = getModus(main_df['Age'])\n",
        "print(\"Modus: \" + str(x))\n",
        "x = getStd(main_df['Age'])\n",
        "print(\"Standar Deviasi: \" + str(x))\n",
        "x = getVariance(main_df['Age'])\n",
        "print(\"Variansi: \" + str(x))\n",
        "x = getRange(main_df['Age'])\n",
        "print(\"Range: \" + str(x))\n",
        "x = getMin(main_df['Age'])\n",
        "print(\"Nilai Minimum: \" + str(x))\n",
        "x = getMax(main_df['Age'])\n",
        "print(\"Nilai Maksimum: \" + str(x))\n",
        "x = getKuartil(main_df['Age'])\n",
        "print(\"Kuartil: \" + str(x))\n",
        "x = getInterKuartil(main_df['Age'])\n",
        "print(\"Inter Kuartil: \" + str(x))\n",
        "x = getSkewness(main_df['Age'])\n",
        "print(\"Skewness: \" + str(x))\n",
        "x = kurtosis(main_df['Age'])\n",
        "print(\"Kurtosis: \" + str(x))"
      ],
      "metadata": {
        "colab": {
          "base_uri": "https://localhost:8080/"
        },
        "id": "91zAmXEYh6FY",
        "outputId": "3f233676-174f-4d63-bd85-473d500ed632"
      },
      "execution_count": null,
      "outputs": [
        {
          "output_type": "stream",
          "name": "stdout",
          "text": [
            "Rata-rata: 4889928.319474324\n",
            "Median: 4898900.675226251\n",
            "Modus: 3093456.839129376\n",
            "Standar Deviasi: 2010292.2629119065\n",
            "Variansi: 4041274982323.4736\n",
            "Range: 13316478.756404964\n",
            "Nilai Minimum: -1088986.5264049638\n",
            "Nilai Maksimum: 12227492.23\n",
            "Kuartil: [3579592.598647509, 4898900.675226251, 6272831.370186756]\n",
            "Inter Kuartil: 2693238.7715392476\n",
            "Skewness: -0.006346172850509155\n",
            "Kurtosis: -0.03448157628069426\n"
          ]
        }
      ]
    },
    {
      "cell_type": "markdown",
      "source": [
        "### B) Deskripsi Statistika Income"
      ],
      "metadata": {
        "id": "NrDLKjFER9yK"
      }
    },
    {
      "cell_type": "code",
      "execution_count": null,
      "metadata": {
        "colab": {
          "base_uri": "https://localhost:8080/"
        },
        "outputId": "bd2a97b0-6f2e-4bcd-83ce-8d974053112f",
        "id": "R6SXR-vhR9yR"
      },
      "outputs": [
        {
          "output_type": "execute_result",
          "data": {
            "text/plain": [
              "0       3.093457e+06\n",
              "1       5.545445e+06\n",
              "2       4.401808e+06\n",
              "3       4.606865e+06\n",
              "4       6.956049e+06\n",
              "            ...     \n",
              "1995    2.072546e+06\n",
              "1996    7.456909e+06\n",
              "1997    5.560391e+06\n",
              "1998    3.436759e+06\n",
              "1999    3.343102e+06\n",
              "Name: Income, Length: 2000, dtype: float64"
            ]
          },
          "metadata": {},
          "execution_count": 25
        }
      ],
      "source": [
        "main_df['Income']"
      ]
    },
    {
      "cell_type": "code",
      "source": [
        "x = getMean(main_df['Income'])\n",
        "print(\"Rata-rata: \" + str(x))\n",
        "x = getMedian(main_df['Income'])\n",
        "print(\"Median: \" + str(x))\n",
        "x = getModus(main_df['Income'])\n",
        "print(\"Modus: \" + str(x))\n",
        "x = getStd(main_df['Income'])\n",
        "print(\"Standar Deviasi: \" + str(x))\n",
        "x = getVariance(main_df['Income'])\n",
        "print(\"Variansi: \" + str(x))\n",
        "x = getRange(main_df['Income'])\n",
        "print(\"Range: \" + str(x))\n",
        "x = getMin(main_df['Income'])\n",
        "print(\"Nilai Minimum: \" + str(x))\n",
        "x = getMax(main_df['Income'])\n",
        "print(\"Nilai Maksimum: \" + str(x))\n",
        "x = getKuartil(main_df['Income'])\n",
        "print(\"Kuartil: \" + str(x))\n",
        "x = getInterKuartil(main_df['Income'])\n",
        "print(\"Inter Kuartil: \" + str(x))\n",
        "x = getSkewness(main_df['Income'])\n",
        "print(\"Skewness: \" + str(x))\n",
        "x = kurtosis(main_df['Income'])\n",
        "print(\"Kurtosis: \" + str(x))"
      ],
      "metadata": {
        "colab": {
          "base_uri": "https://localhost:8080/"
        },
        "outputId": "3f233676-174f-4d63-bd85-473d500ed632",
        "id": "fwuB8hwOR9yS"
      },
      "execution_count": null,
      "outputs": [
        {
          "output_type": "stream",
          "name": "stdout",
          "text": [
            "Rata-rata: 4889928.319474324\n",
            "Median: 4898900.675226251\n",
            "Modus: 3093456.839129376\n",
            "Standar Deviasi: 2010292.2629119065\n",
            "Variansi: 4041274982323.4736\n",
            "Range: 13316478.756404964\n",
            "Nilai Minimum: -1088986.5264049638\n",
            "Nilai Maksimum: 12227492.23\n",
            "Kuartil: [3579592.598647509, 4898900.675226251, 6272831.370186756]\n",
            "Inter Kuartil: 2693238.7715392476\n",
            "Skewness: -0.006346172850509155\n",
            "Kurtosis: -0.03448157628069426\n"
          ]
        }
      ]
    },
    {
      "cell_type": "markdown",
      "source": [
        "### C) Deskripsi Statistika Gender"
      ],
      "metadata": {
        "id": "n8-UeFo5Vcz7"
      }
    },
    {
      "cell_type": "code",
      "execution_count": null,
      "metadata": {
        "colab": {
          "base_uri": "https://localhost:8080/"
        },
        "outputId": "3e9b80ad-0268-4cb9-9e8e-6ce58c287e18",
        "id": "9Jl3UzMuVcz7"
      },
      "outputs": [
        {
          "output_type": "execute_result",
          "data": {
            "text/plain": [
              "0         Male\n",
              "1         Male\n",
              "2         Male\n",
              "3       Female\n",
              "4         Male\n",
              "         ...  \n",
              "1995      Male\n",
              "1996    Female\n",
              "1997      Male\n",
              "1998      Male\n",
              "1999      Male\n",
              "Name: Gender, Length: 2000, dtype: object"
            ]
          },
          "metadata": {},
          "execution_count": 16
        }
      ],
      "source": [
        "main_df['Gender']"
      ]
    },
    {
      "cell_type": "code",
      "source": [
        "x = getUnique(main_df['Gender'])\n",
        "if len(x)==0 :\n",
        "  print(\"Tidak ada value unik\")\n",
        "else:\n",
        "  print(\"Value Unik: \" + str(x))\n",
        "\n",
        "x = getProportion(main_df['Gender'])\n",
        "print(\"Proporsi: \" + str(x))"
      ],
      "metadata": {
        "colab": {
          "base_uri": "https://localhost:8080/"
        },
        "outputId": "e2de6caa-ae27-42a6-a98f-1c09d7cc63b8",
        "id": "KLLd9wynVcz8"
      },
      "execution_count": null,
      "outputs": [
        {
          "output_type": "stream",
          "name": "stdout",
          "text": [
            "Value Unik: {'Male', 'Female'}\n",
            "Proporsi: {'Male': 0.4945, 'Female': 0.5055}\n"
          ]
        }
      ]
    },
    {
      "cell_type": "markdown",
      "source": [
        "### D) Deskripsi Statistika Education"
      ],
      "metadata": {
        "id": "yEI_Sk1nWxT1"
      }
    },
    {
      "cell_type": "code",
      "execution_count": null,
      "metadata": {
        "colab": {
          "base_uri": "https://localhost:8080/"
        },
        "outputId": "04ca2fc3-db89-4a1f-f718-3ec305e879e8",
        "id": "1XGqm69bWxT7"
      },
      "outputs": [
        {
          "output_type": "execute_result",
          "data": {
            "text/plain": [
              "0         Male\n",
              "1         Male\n",
              "2         Male\n",
              "3       Female\n",
              "4         Male\n",
              "         ...  \n",
              "1995      Male\n",
              "1996    Female\n",
              "1997      Male\n",
              "1998      Male\n",
              "1999      Male\n",
              "Name: Gender, Length: 2000, dtype: object"
            ]
          },
          "metadata": {},
          "execution_count": 18
        }
      ],
      "source": [
        "main_df['Education']"
      ]
    },
    {
      "cell_type": "code",
      "source": [
        "x = getUnique(main_df['Education'])\n",
        "if len(x)==0 :\n",
        "  print(\"Tidak ada value unik\")\n",
        "else:\n",
        "  print(\"Value Unik: \" + str(x))\n",
        "\n",
        "x = getProportion(main_df['Education'])\n",
        "print(\"Proporsi: \" + str(x))"
      ],
      "metadata": {
        "colab": {
          "base_uri": "https://localhost:8080/"
        },
        "outputId": "b99f4fb9-acc3-4b5c-fc41-2c7fa27a3671",
        "id": "beklO0coWxT8"
      },
      "execution_count": null,
      "outputs": [
        {
          "output_type": "stream",
          "name": "stdout",
          "text": [
            "Value Unik: {'Male', 'Female'}\n",
            "Proporsi: {'Male': 0.4945, 'Female': 0.5055}\n"
          ]
        }
      ]
    },
    {
      "cell_type": "markdown",
      "source": [
        "### E) Deskripsi Statistika Stress Level"
      ],
      "metadata": {
        "id": "xSc6jtmlSX-6"
      }
    },
    {
      "cell_type": "code",
      "execution_count": null,
      "metadata": {
        "colab": {
          "base_uri": "https://localhost:8080/"
        },
        "outputId": "bd2a97b0-6f2e-4bcd-83ce-8d974053112f",
        "id": "Pa3csLEySX_A"
      },
      "outputs": [
        {
          "output_type": "execute_result",
          "data": {
            "text/plain": [
              "0       3.093457e+06\n",
              "1       5.545445e+06\n",
              "2       4.401808e+06\n",
              "3       4.606865e+06\n",
              "4       6.956049e+06\n",
              "            ...     \n",
              "1995    2.072546e+06\n",
              "1996    7.456909e+06\n",
              "1997    5.560391e+06\n",
              "1998    3.436759e+06\n",
              "1999    3.343102e+06\n",
              "Name: Income, Length: 2000, dtype: float64"
            ]
          },
          "metadata": {},
          "execution_count": 25
        }
      ],
      "source": [
        "main_df['Stress_Level']"
      ]
    },
    {
      "cell_type": "code",
      "source": [
        "x = getMean(main_df['Stress_Level'])\n",
        "print(\"Rata-rata: \" + str(x))\n",
        "x = getMedian(main_df['Stress_Level'])\n",
        "print(\"Median: \" + str(x))\n",
        "x = getModus(main_df['Stress_Level'])\n",
        "print(\"Modus: \" + str(x))\n",
        "x = getStd(main_df['Stress_Level'])\n",
        "print(\"Standar Deviasi: \" + str(x))\n",
        "x = getVariance(main_df['Stress_Level'])\n",
        "print(\"Variansi: \" + str(x))\n",
        "x = getRange(main_df['Stress_Level'])\n",
        "print(\"Range: \" + str(x))\n",
        "x = getMin(main_df['Stress_Level'])\n",
        "print(\"Nilai Minimum: \" + str(x))\n",
        "x = getMax(main_df['Stress_Level'])\n",
        "print(\"Nilai Maksimum: \" + str(x))\n",
        "x = getKuartil(main_df['Stress_Level'])\n",
        "print(\"Kuartil: \" + str(x))\n",
        "x = getInterKuartil(main_df['Stress_Level'])\n",
        "print(\"Inter Kuartil: \" + str(x))\n",
        "x = getSkewness(main_df['Stress_Level'])\n",
        "print(\"Skewness: \" + str(x))\n",
        "x = kurtosis(main_df['Stress_Level'])\n",
        "print(\"Kurtosis: \" + str(x))"
      ],
      "metadata": {
        "colab": {
          "base_uri": "https://localhost:8080/"
        },
        "outputId": "3f233676-174f-4d63-bd85-473d500ed632",
        "id": "3ZwkyXseSX_A"
      },
      "execution_count": null,
      "outputs": [
        {
          "output_type": "stream",
          "name": "stdout",
          "text": [
            "Rata-rata: 4889928.319474324\n",
            "Median: 4898900.675226251\n",
            "Modus: 3093456.839129376\n",
            "Standar Deviasi: 2010292.2629119065\n",
            "Variansi: 4041274982323.4736\n",
            "Range: 13316478.756404964\n",
            "Nilai Minimum: -1088986.5264049638\n",
            "Nilai Maksimum: 12227492.23\n",
            "Kuartil: [3579592.598647509, 4898900.675226251, 6272831.370186756]\n",
            "Inter Kuartil: 2693238.7715392476\n",
            "Skewness: -0.006346172850509155\n",
            "Kurtosis: -0.03448157628069426\n"
          ]
        }
      ]
    },
    {
      "cell_type": "markdown",
      "source": [
        "### F) Deskripsi Statistika Excercise Hours Per Week"
      ],
      "metadata": {
        "id": "WgPFHCsXTI9i"
      }
    },
    {
      "cell_type": "code",
      "execution_count": null,
      "metadata": {
        "colab": {
          "base_uri": "https://localhost:8080/"
        },
        "outputId": "bd2a97b0-6f2e-4bcd-83ce-8d974053112f",
        "id": "hHr1n2XzTI9o"
      },
      "outputs": [
        {
          "output_type": "execute_result",
          "data": {
            "text/plain": [
              "0       3.093457e+06\n",
              "1       5.545445e+06\n",
              "2       4.401808e+06\n",
              "3       4.606865e+06\n",
              "4       6.956049e+06\n",
              "            ...     \n",
              "1995    2.072546e+06\n",
              "1996    7.456909e+06\n",
              "1997    5.560391e+06\n",
              "1998    3.436759e+06\n",
              "1999    3.343102e+06\n",
              "Name: Income, Length: 2000, dtype: float64"
            ]
          },
          "metadata": {},
          "execution_count": 25
        }
      ],
      "source": [
        "main_df['Exercise_Hours_Per_Week']"
      ]
    },
    {
      "cell_type": "code",
      "source": [
        "x = getMean(main_df['Exercise_Hours_Per_Week'])\n",
        "print(\"Rata-rata: \" + str(x))\n",
        "x = getMedian(main_df['Exercise_Hours_Per_Week'])\n",
        "print(\"Median: \" + str(x))\n",
        "x = getModus(main_df['Exercise_Hours_Per_Week'])\n",
        "print(\"Modus: \" + str(x))\n",
        "x = getStd(main_df['Exercise_Hours_Per_Week'])\n",
        "print(\"Standar Deviasi: \" + str(x))\n",
        "x = getVariance(main_df['Exercise_Hours_Per_Week'])\n",
        "print(\"Variansi: \" + str(x))\n",
        "x = getRange(main_df['Exercise_Hours_Per_Week'])\n",
        "print(\"Range: \" + str(x))\n",
        "x = getMin(main_df['Exercise_Hours_Per_Week'])\n",
        "print(\"Nilai Minimum: \" + str(x))\n",
        "x = getMax(main_df['Exercise_Hours_Per_Week'])\n",
        "print(\"Nilai Maksimum: \" + str(x))\n",
        "x = getKuartil(main_df['Exercise_Hours_Per_Week'])\n",
        "print(\"Kuartil: \" + str(x))\n",
        "x = getInterKuartil(main_df['Exercise_Hours_Per_Week'])\n",
        "print(\"Inter Kuartil: \" + str(x))\n",
        "x = getSkewness(main_df['Exercise_Hours_Per_Week'])\n",
        "print(\"Skewness: \" + str(x))\n",
        "x = kurtosis(main_df['Exercise_Hours_Per_Week'])\n",
        "print(\"Kurtosis: \" + str(x))"
      ],
      "metadata": {
        "colab": {
          "base_uri": "https://localhost:8080/"
        },
        "outputId": "3f233676-174f-4d63-bd85-473d500ed632",
        "id": "PXYSR2RVTI9p"
      },
      "execution_count": null,
      "outputs": [
        {
          "output_type": "stream",
          "name": "stdout",
          "text": [
            "Rata-rata: 4889928.319474324\n",
            "Median: 4898900.675226251\n",
            "Modus: 3093456.839129376\n",
            "Standar Deviasi: 2010292.2629119065\n",
            "Variansi: 4041274982323.4736\n",
            "Range: 13316478.756404964\n",
            "Nilai Minimum: -1088986.5264049638\n",
            "Nilai Maksimum: 12227492.23\n",
            "Kuartil: [3579592.598647509, 4898900.675226251, 6272831.370186756]\n",
            "Inter Kuartil: 2693238.7715392476\n",
            "Skewness: -0.006346172850509155\n",
            "Kurtosis: -0.03448157628069426\n"
          ]
        }
      ]
    },
    {
      "cell_type": "markdown",
      "source": [
        "### G) Deskripsi Statistika Cholesterol Level"
      ],
      "metadata": {
        "id": "tjtoOlSxT1Gj"
      }
    },
    {
      "cell_type": "code",
      "execution_count": null,
      "metadata": {
        "colab": {
          "base_uri": "https://localhost:8080/"
        },
        "outputId": "bd2a97b0-6f2e-4bcd-83ce-8d974053112f",
        "id": "4lAAqTVcT4ZO"
      },
      "outputs": [
        {
          "output_type": "execute_result",
          "data": {
            "text/plain": [
              "0       3.093457e+06\n",
              "1       5.545445e+06\n",
              "2       4.401808e+06\n",
              "3       4.606865e+06\n",
              "4       6.956049e+06\n",
              "            ...     \n",
              "1995    2.072546e+06\n",
              "1996    7.456909e+06\n",
              "1997    5.560391e+06\n",
              "1998    3.436759e+06\n",
              "1999    3.343102e+06\n",
              "Name: Income, Length: 2000, dtype: float64"
            ]
          },
          "metadata": {},
          "execution_count": 25
        }
      ],
      "source": [
        "main_df['Cholesterol_Level']"
      ]
    },
    {
      "cell_type": "code",
      "source": [
        "x = getMean(main_df['Cholesterol_Level'])\n",
        "print(\"Rata-rata: \" + str(x))\n",
        "x = getMedian(main_df['Cholesterol_Level'])\n",
        "print(\"Median: \" + str(x))\n",
        "x = getModus(main_df['Cholesterol_Level'])\n",
        "print(\"Modus: \" + str(x))\n",
        "x = getStd(main_df['Cholesterol_Level'])\n",
        "print(\"Standar Deviasi: \" + str(x))\n",
        "x = getVariance(main_df['Cholesterol_Level'])\n",
        "print(\"Variansi: \" + str(x))\n",
        "x = getRange(main_df['Cholesterol_Level'])\n",
        "print(\"Range: \" + str(x))\n",
        "x = getMin(main_df['Cholesterol_Level'])\n",
        "print(\"Nilai Minimum: \" + str(x))\n",
        "x = getMax(main_df['Cholesterol_Level'])\n",
        "print(\"Nilai Maksimum: \" + str(x))\n",
        "x = getKuartil(main_df['Cholesterol_Level'])\n",
        "print(\"Kuartil: \" + str(x))\n",
        "x = getInterKuartil(main_df['Cholesterol_Level'])\n",
        "print(\"Inter Kuartil: \" + str(x))\n",
        "x = getSkewness(main_df['Cholesterol_Level'])\n",
        "print(\"Skewness: \" + str(x))\n",
        "x = kurtosis(main_df['Cholesterol_Level'])\n",
        "print(\"Kurtosis: \" + str(x))"
      ],
      "metadata": {
        "colab": {
          "base_uri": "https://localhost:8080/"
        },
        "outputId": "3f233676-174f-4d63-bd85-473d500ed632",
        "id": "2shVYVyDT4ZO"
      },
      "execution_count": null,
      "outputs": [
        {
          "output_type": "stream",
          "name": "stdout",
          "text": [
            "Rata-rata: 4889928.319474324\n",
            "Median: 4898900.675226251\n",
            "Modus: 3093456.839129376\n",
            "Standar Deviasi: 2010292.2629119065\n",
            "Variansi: 4041274982323.4736\n",
            "Range: 13316478.756404964\n",
            "Nilai Minimum: -1088986.5264049638\n",
            "Nilai Maksimum: 12227492.23\n",
            "Kuartil: [3579592.598647509, 4898900.675226251, 6272831.370186756]\n",
            "Inter Kuartil: 2693238.7715392476\n",
            "Skewness: -0.006346172850509155\n",
            "Kurtosis: -0.03448157628069426\n"
          ]
        }
      ]
    },
    {
      "cell_type": "markdown",
      "source": [
        "### H) Deskripsi Statistika Weight"
      ],
      "metadata": {
        "id": "mUXfzoFQXI4i"
      }
    },
    {
      "cell_type": "code",
      "execution_count": null,
      "metadata": {
        "colab": {
          "base_uri": "https://localhost:8080/"
        },
        "outputId": "bd2a97b0-6f2e-4bcd-83ce-8d974053112f",
        "id": "clkxUgnuXI4o"
      },
      "outputs": [
        {
          "output_type": "execute_result",
          "data": {
            "text/plain": [
              "0       3.093457e+06\n",
              "1       5.545445e+06\n",
              "2       4.401808e+06\n",
              "3       4.606865e+06\n",
              "4       6.956049e+06\n",
              "            ...     \n",
              "1995    2.072546e+06\n",
              "1996    7.456909e+06\n",
              "1997    5.560391e+06\n",
              "1998    3.436759e+06\n",
              "1999    3.343102e+06\n",
              "Name: Income, Length: 2000, dtype: float64"
            ]
          },
          "metadata": {},
          "execution_count": 25
        }
      ],
      "source": [
        "main_df['Weight']"
      ]
    },
    {
      "cell_type": "code",
      "source": [
        "x = getMean(main_df['Weight'])\n",
        "print(\"Rata-rata: \" + str(x))\n",
        "x = getMedian(main_df['Weight'])\n",
        "print(\"Median: \" + str(x))\n",
        "x = getModus(main_df['Weight'])\n",
        "print(\"Modus: \" + str(x))\n",
        "x = getStd(main_df['Weight'])\n",
        "print(\"Standar Deviasi: \" + str(x))\n",
        "x = getVariance(main_df['Weight'])\n",
        "print(\"Variansi: \" + str(x))\n",
        "x = getRange(main_df['Weight'])\n",
        "print(\"Range: \" + str(x))\n",
        "x = getMin(main_df['Weight'])\n",
        "print(\"Nilai Minimum: \" + str(x))\n",
        "x = getMax(main_df['Weight'])\n",
        "print(\"Nilai Maksimum: \" + str(x))\n",
        "x = getKuartil(main_df['Weight'])\n",
        "print(\"Kuartil: \" + str(x))\n",
        "x = getInterKuartil(main_df['Weight'])\n",
        "print(\"Inter Kuartil: \" + str(x))\n",
        "x = getSkewness(main_df['Weight'])\n",
        "print(\"Skewness: \" + str(x))\n",
        "x = kurtosis(main_df['Weight'])\n",
        "print(\"Kurtosis: \" + str(x))"
      ],
      "metadata": {
        "colab": {
          "base_uri": "https://localhost:8080/"
        },
        "outputId": "3f233676-174f-4d63-bd85-473d500ed632",
        "id": "TrdSu3T7XI4o"
      },
      "execution_count": null,
      "outputs": [
        {
          "output_type": "stream",
          "name": "stdout",
          "text": [
            "Rata-rata: 4889928.319474324\n",
            "Median: 4898900.675226251\n",
            "Modus: 3093456.839129376\n",
            "Standar Deviasi: 2010292.2629119065\n",
            "Variansi: 4041274982323.4736\n",
            "Range: 13316478.756404964\n",
            "Nilai Minimum: -1088986.5264049638\n",
            "Nilai Maksimum: 12227492.23\n",
            "Kuartil: [3579592.598647509, 4898900.675226251, 6272831.370186756]\n",
            "Inter Kuartil: 2693238.7715392476\n",
            "Skewness: -0.006346172850509155\n",
            "Kurtosis: -0.03448157628069426\n"
          ]
        }
      ]
    },
    {
      "cell_type": "markdown",
      "source": [
        "### I) Deskripsi Statistika Height"
      ],
      "metadata": {
        "id": "7pr-UHnqXcKa"
      }
    },
    {
      "cell_type": "code",
      "execution_count": null,
      "metadata": {
        "colab": {
          "base_uri": "https://localhost:8080/"
        },
        "outputId": "bd2a97b0-6f2e-4bcd-83ce-8d974053112f",
        "id": "L4Wif3CPXcKg"
      },
      "outputs": [
        {
          "output_type": "execute_result",
          "data": {
            "text/plain": [
              "0       3.093457e+06\n",
              "1       5.545445e+06\n",
              "2       4.401808e+06\n",
              "3       4.606865e+06\n",
              "4       6.956049e+06\n",
              "            ...     \n",
              "1995    2.072546e+06\n",
              "1996    7.456909e+06\n",
              "1997    5.560391e+06\n",
              "1998    3.436759e+06\n",
              "1999    3.343102e+06\n",
              "Name: Income, Length: 2000, dtype: float64"
            ]
          },
          "metadata": {},
          "execution_count": 25
        }
      ],
      "source": [
        "main_df['Height']"
      ]
    },
    {
      "cell_type": "code",
      "source": [
        "x = getMean(main_df['Height'])\n",
        "print(\"Rata-rata: \" + str(x))\n",
        "x = getMedian(main_df['Height'])\n",
        "print(\"Median: \" + str(x))\n",
        "x = getModus(main_df['Height'])\n",
        "print(\"Modus: \" + str(x))\n",
        "x = getStd(main_df['Height'])\n",
        "print(\"Standar Deviasi: \" + str(x))\n",
        "x = getVariance(main_df['Height'])\n",
        "print(\"Variansi: \" + str(x))\n",
        "x = getRange(main_df['Height'])\n",
        "print(\"Range: \" + str(x))\n",
        "x = getMin(main_df['Height'])\n",
        "print(\"Nilai Minimum: \" + str(x))\n",
        "x = getMax(main_df['Height'])\n",
        "print(\"Nilai Maksimum: \" + str(x))\n",
        "x = getKuartil(main_df['Height'])\n",
        "print(\"Kuartil: \" + str(x))\n",
        "x = getInterKuartil(main_df['Height'])\n",
        "print(\"Inter Kuartil: \" + str(x))\n",
        "x = getSkewness(main_df['Height'])\n",
        "print(\"Skewness: \" + str(x))\n",
        "x = kurtosis(main_df['Height'])\n",
        "print(\"Kurtosis: \" + str(x))"
      ],
      "metadata": {
        "colab": {
          "base_uri": "https://localhost:8080/"
        },
        "outputId": "3f233676-174f-4d63-bd85-473d500ed632",
        "id": "Pem9ACN8XcKg"
      },
      "execution_count": null,
      "outputs": [
        {
          "output_type": "stream",
          "name": "stdout",
          "text": [
            "Rata-rata: 4889928.319474324\n",
            "Median: 4898900.675226251\n",
            "Modus: 3093456.839129376\n",
            "Standar Deviasi: 2010292.2629119065\n",
            "Variansi: 4041274982323.4736\n",
            "Range: 13316478.756404964\n",
            "Nilai Minimum: -1088986.5264049638\n",
            "Nilai Maksimum: 12227492.23\n",
            "Kuartil: [3579592.598647509, 4898900.675226251, 6272831.370186756]\n",
            "Inter Kuartil: 2693238.7715392476\n",
            "Skewness: -0.006346172850509155\n",
            "Kurtosis: -0.03448157628069426\n"
          ]
        }
      ]
    },
    {
      "cell_type": "markdown",
      "source": [
        "### J) Deskripsi Statistika Blood Pressure"
      ],
      "metadata": {
        "id": "JnbY-_DPXyzx"
      }
    },
    {
      "cell_type": "code",
      "execution_count": null,
      "metadata": {
        "colab": {
          "base_uri": "https://localhost:8080/"
        },
        "outputId": "bd2a97b0-6f2e-4bcd-83ce-8d974053112f",
        "id": "XE_0rRbWXyz3"
      },
      "outputs": [
        {
          "output_type": "execute_result",
          "data": {
            "text/plain": [
              "0       3.093457e+06\n",
              "1       5.545445e+06\n",
              "2       4.401808e+06\n",
              "3       4.606865e+06\n",
              "4       6.956049e+06\n",
              "            ...     \n",
              "1995    2.072546e+06\n",
              "1996    7.456909e+06\n",
              "1997    5.560391e+06\n",
              "1998    3.436759e+06\n",
              "1999    3.343102e+06\n",
              "Name: Income, Length: 2000, dtype: float64"
            ]
          },
          "metadata": {},
          "execution_count": 25
        }
      ],
      "source": [
        "main_df['Blood_Pressure']"
      ]
    },
    {
      "cell_type": "code",
      "source": [
        "x = getMean(main_df['Blood_Pressure'])\n",
        "print(\"Rata-rata: \" + str(x))\n",
        "x = getMedian(main_df['Blood_Pressure'])\n",
        "print(\"Median: \" + str(x))\n",
        "x = getModus(main_df['Blood_Pressure'])\n",
        "print(\"Modus: \" + str(x))\n",
        "x = getStd(main_df['Blood_Pressure'])\n",
        "print(\"Standar Deviasi: \" + str(x))\n",
        "x = getVariance(main_df['Blood_Pressure'])\n",
        "print(\"Variansi: \" + str(x))\n",
        "x = getRange(main_df['Blood_Pressure'])\n",
        "print(\"Range: \" + str(x))\n",
        "x = getMin(main_df['Blood_Pressure'])\n",
        "print(\"Nilai Minimum: \" + str(x))\n",
        "x = getMax(main_df['Blood_Pressure'])\n",
        "print(\"Nilai Maksimum: \" + str(x))\n",
        "x = getKuartil(main_df['Blood_Pressure'])\n",
        "print(\"Kuartil: \" + str(x))\n",
        "x = getInterKuartil(main_df['Blood_Pressure'])\n",
        "print(\"Inter Kuartil: \" + str(x))\n",
        "x = getSkewness(main_df['Blood_Pressure'])\n",
        "print(\"Skewness: \" + str(x))\n",
        "x = kurtosis(main_df['Blood_Pressure'])\n",
        "print(\"Kurtosis: \" + str(x))"
      ],
      "metadata": {
        "colab": {
          "base_uri": "https://localhost:8080/"
        },
        "outputId": "3f233676-174f-4d63-bd85-473d500ed632",
        "id": "przph78ZXyz4"
      },
      "execution_count": null,
      "outputs": [
        {
          "output_type": "stream",
          "name": "stdout",
          "text": [
            "Rata-rata: 4889928.319474324\n",
            "Median: 4898900.675226251\n",
            "Modus: 3093456.839129376\n",
            "Standar Deviasi: 2010292.2629119065\n",
            "Variansi: 4041274982323.4736\n",
            "Range: 13316478.756404964\n",
            "Nilai Minimum: -1088986.5264049638\n",
            "Nilai Maksimum: 12227492.23\n",
            "Kuartil: [3579592.598647509, 4898900.675226251, 6272831.370186756]\n",
            "Inter Kuartil: 2693238.7715392476\n",
            "Skewness: -0.006346172850509155\n",
            "Kurtosis: -0.03448157628069426\n"
          ]
        }
      ]
    },
    {
      "cell_type": "markdown",
      "source": [
        "### K) Deskripsi Statistika Health Status"
      ],
      "metadata": {
        "id": "tqnqH1CpYKnm"
      }
    },
    {
      "cell_type": "code",
      "execution_count": null,
      "metadata": {
        "colab": {
          "base_uri": "https://localhost:8080/"
        },
        "outputId": "862501c1-11c1-47e2-c763-5c9e34e7180b",
        "id": "vXXR46VQYKns"
      },
      "outputs": [
        {
          "output_type": "execute_result",
          "data": {
            "text/plain": [
              "0       Excellent\n",
              "1            Fair\n",
              "2       Excellent\n",
              "3            Poor\n",
              "4            Fair\n",
              "          ...    \n",
              "1995         Fair\n",
              "1996    Excellent\n",
              "1997         Poor\n",
              "1998         Good\n",
              "1999         Poor\n",
              "Name: Health_Status, Length: 2000, dtype: object"
            ]
          },
          "metadata": {},
          "execution_count": 21
        }
      ],
      "source": [
        "main_df['Health_Status']"
      ]
    },
    {
      "cell_type": "code",
      "source": [
        "x = getUnique(main_df['Health_Status'])\n",
        "if len(x)==0 :\n",
        "  print(\"Tidak ada value unik\")\n",
        "else:\n",
        "  print(\"Value Unik: \" + str(x))\n",
        "\n",
        "x = getProportion(main_df['Health_Status'])\n",
        "print(\"Proporsi: \" + str(x))"
      ],
      "metadata": {
        "colab": {
          "base_uri": "https://localhost:8080/"
        },
        "outputId": "3fa69d98-996a-407a-8017-b4525ab899c2",
        "id": "FYT5hRGoYKnt"
      },
      "execution_count": null,
      "outputs": [
        {
          "output_type": "stream",
          "name": "stdout",
          "text": [
            "Value Unik: {'Excellent', 'Fair', 'Poor', 'Good'}\n",
            "Proporsi: {'Excellent': 0.2515, 'Fair': 0.2595, 'Poor': 0.252, 'Good': 0.237}\n"
          ]
        }
      ]
    },
    {
      "cell_type": "markdown",
      "source": [
        "## **2. Outlier**\n",
        "Apakah pada data tersebut terdapat outlier? Jika ya, dapatkah anda menanganinya? Jelaskan apa yang umumnya dilakukan untuk menangani outlier."
      ],
      "metadata": {
        "id": "r1b5bbLxcrF1"
      }
    },
    {
      "cell_type": "code",
      "source": [],
      "metadata": {
        "id": "vqZeeaeBTWui"
      },
      "execution_count": null,
      "outputs": []
    },
    {
      "cell_type": "markdown",
      "source": [
        "## **3. Visualisasi Plot Distribusi**\n",
        "Membuat Visualisasi plot distribusi. Berikan uraian penjelasan kondisi setiap kolom berdasarkan kedua plot tersebut. Jika numerik dapat dibuat dalam bentuk histogram dan box plot, dan jika string dengan histogram."
      ],
      "metadata": {
        "id": "7k1QqAdYcuwx"
      }
    },
    {
      "cell_type": "code",
      "source": [],
      "metadata": {
        "id": "8iFZgrywclmU"
      },
      "execution_count": null,
      "outputs": []
    },
    {
      "cell_type": "markdown",
      "source": [
        "## **4. Menentukan Distribusi**\n",
        "Menentukan distribusi setiap kolom numerik menggunakan hasil visualisasi histogram. Apakah kolom tersebut berdistribusi normal? Jika bukan, terdistribusi seperti apa kolom tersebut?\n"
      ],
      "metadata": {
        "id": "9fcLad6ndCnR"
      }
    }
  ]
}