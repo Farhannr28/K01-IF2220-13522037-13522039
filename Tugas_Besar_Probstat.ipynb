{
  "cells": [
    {
      "cell_type": "markdown",
      "metadata": {
        "id": "qTyiELm4Tbzw"
      },
      "source": [
        "# Dataset Health\n",
        "## Farhan Nafis Rayhan - 13522037\n",
        "## Edbert Eddyson Gunawan - 13522039\n"
      ]
    },
    {
      "cell_type": "markdown",
      "metadata": {
        "id": "YQWnHGMPV4TI"
      },
      "source": [
        "## Setup Dataset"
      ]
    },
    {
      "cell_type": "code",
      "execution_count": 1,
      "metadata": {
        "id": "IXhjOHaAV7mp"
      },
      "outputs": [],
      "source": [
        "import pandas as pd\n",
        "import matplotlib.pyplot as plt\n",
        "from IPython.display import display\n",
        "import numpy as np\n",
        "import seaborn as sns\n",
        "from scipy.stats import t, norm, binom\n",
        "import math"
      ]
    },
    {
      "cell_type": "code",
      "execution_count": 2,
      "metadata": {
        "colab": {
          "base_uri": "https://localhost:8080/",
          "height": 330
        },
        "id": "WZHI5-_xV9lv",
        "outputId": "62e9450d-2c10-4615-d318-eec54a5f0420"
      },
      "outputs": [
        {
          "data": {
            "text/html": [
              "<div>\n",
              "<style scoped>\n",
              "    .dataframe tbody tr th:only-of-type {\n",
              "        vertical-align: middle;\n",
              "    }\n",
              "\n",
              "    .dataframe tbody tr th {\n",
              "        vertical-align: top;\n",
              "    }\n",
              "\n",
              "    .dataframe thead th {\n",
              "        text-align: right;\n",
              "    }\n",
              "</style>\n",
              "<table border=\"1\" class=\"dataframe\">\n",
              "  <thead>\n",
              "    <tr style=\"text-align: right;\">\n",
              "      <th></th>\n",
              "      <th>Unnamed: 0</th>\n",
              "      <th>Age</th>\n",
              "      <th>Income</th>\n",
              "      <th>Gender</th>\n",
              "      <th>Education</th>\n",
              "      <th>Stress_Level</th>\n",
              "      <th>Exercise_Hours_Per_Week</th>\n",
              "      <th>Cholesterol_Level</th>\n",
              "      <th>Weight</th>\n",
              "      <th>Height</th>\n",
              "      <th>Blood_Pressure</th>\n",
              "      <th>Health_Status</th>\n",
              "    </tr>\n",
              "  </thead>\n",
              "  <tbody>\n",
              "    <tr>\n",
              "      <th>0</th>\n",
              "      <td>0</td>\n",
              "      <td>50</td>\n",
              "      <td>3.093457e+06</td>\n",
              "      <td>Male</td>\n",
              "      <td>Bachelor's Degree</td>\n",
              "      <td>4.967887</td>\n",
              "      <td>16.632494</td>\n",
              "      <td>200.419036</td>\n",
              "      <td>70.917032</td>\n",
              "      <td>150.401537</td>\n",
              "      <td>125.568820</td>\n",
              "      <td>Excellent</td>\n",
              "    </tr>\n",
              "    <tr>\n",
              "      <th>1</th>\n",
              "      <td>1</td>\n",
              "      <td>44</td>\n",
              "      <td>5.545445e+06</td>\n",
              "      <td>Male</td>\n",
              "      <td>Bachelor's Degree</td>\n",
              "      <td>5.833649</td>\n",
              "      <td>13.255988</td>\n",
              "      <td>201.010046</td>\n",
              "      <td>70.669576</td>\n",
              "      <td>149.285349</td>\n",
              "      <td>125.603505</td>\n",
              "      <td>Fair</td>\n",
              "    </tr>\n",
              "    <tr>\n",
              "      <th>2</th>\n",
              "      <td>2</td>\n",
              "      <td>25</td>\n",
              "      <td>4.401808e+06</td>\n",
              "      <td>Male</td>\n",
              "      <td>Master's Degree</td>\n",
              "      <td>5.587946</td>\n",
              "      <td>11.144370</td>\n",
              "      <td>200.105258</td>\n",
              "      <td>67.464506</td>\n",
              "      <td>150.020695</td>\n",
              "      <td>127.093163</td>\n",
              "      <td>Excellent</td>\n",
              "    </tr>\n",
              "    <tr>\n",
              "      <th>3</th>\n",
              "      <td>3</td>\n",
              "      <td>41</td>\n",
              "      <td>4.606865e+06</td>\n",
              "      <td>Female</td>\n",
              "      <td>High School</td>\n",
              "      <td>6.271119</td>\n",
              "      <td>9.140268</td>\n",
              "      <td>199.648701</td>\n",
              "      <td>67.566598</td>\n",
              "      <td>150.360963</td>\n",
              "      <td>117.388100</td>\n",
              "      <td>Poor</td>\n",
              "    </tr>\n",
              "    <tr>\n",
              "      <th>4</th>\n",
              "      <td>4</td>\n",
              "      <td>24</td>\n",
              "      <td>6.956049e+06</td>\n",
              "      <td>Male</td>\n",
              "      <td>Bachelor's Degree</td>\n",
              "      <td>5.895226</td>\n",
              "      <td>9.775610</td>\n",
              "      <td>199.330152</td>\n",
              "      <td>79.601530</td>\n",
              "      <td>149.730525</td>\n",
              "      <td>114.163706</td>\n",
              "      <td>Fair</td>\n",
              "    </tr>\n",
              "  </tbody>\n",
              "</table>\n",
              "</div>"
            ],
            "text/plain": [
              "   Unnamed: 0  Age        Income  Gender          Education  Stress_Level  \\\n",
              "0           0   50  3.093457e+06    Male  Bachelor's Degree      4.967887   \n",
              "1           1   44  5.545445e+06    Male  Bachelor's Degree      5.833649   \n",
              "2           2   25  4.401808e+06    Male    Master's Degree      5.587946   \n",
              "3           3   41  4.606865e+06  Female        High School      6.271119   \n",
              "4           4   24  6.956049e+06    Male  Bachelor's Degree      5.895226   \n",
              "\n",
              "   Exercise_Hours_Per_Week  Cholesterol_Level     Weight      Height  \\\n",
              "0                16.632494         200.419036  70.917032  150.401537   \n",
              "1                13.255988         201.010046  70.669576  149.285349   \n",
              "2                11.144370         200.105258  67.464506  150.020695   \n",
              "3                 9.140268         199.648701  67.566598  150.360963   \n",
              "4                 9.775610         199.330152  79.601530  149.730525   \n",
              "\n",
              "   Blood_Pressure Health_Status  \n",
              "0      125.568820     Excellent  \n",
              "1      125.603505          Fair  \n",
              "2      127.093163     Excellent  \n",
              "3      117.388100          Poor  \n",
              "4      114.163706          Fair  "
            ]
          },
          "execution_count": 2,
          "metadata": {},
          "output_type": "execute_result"
        }
      ],
      "source": [
        "main_df = pd.read_csv('health.csv')\n",
        "main_df.head()"
      ]
    },
    {
      "cell_type": "code",
      "execution_count": 3,
      "metadata": {
        "colab": {
          "base_uri": "https://localhost:8080/",
          "height": 320
        },
        "id": "NmWTti8QYZzZ",
        "outputId": "7b39c969-50ff-415a-e655-791a09a8ed37"
      },
      "outputs": [
        {
          "data": {
            "text/html": [
              "<div>\n",
              "<style scoped>\n",
              "    .dataframe tbody tr th:only-of-type {\n",
              "        vertical-align: middle;\n",
              "    }\n",
              "\n",
              "    .dataframe tbody tr th {\n",
              "        vertical-align: top;\n",
              "    }\n",
              "\n",
              "    .dataframe thead th {\n",
              "        text-align: right;\n",
              "    }\n",
              "</style>\n",
              "<table border=\"1\" class=\"dataframe\">\n",
              "  <thead>\n",
              "    <tr style=\"text-align: right;\">\n",
              "      <th></th>\n",
              "      <th>Unnamed: 0</th>\n",
              "      <th>Age</th>\n",
              "      <th>Income</th>\n",
              "      <th>Stress_Level</th>\n",
              "      <th>Exercise_Hours_Per_Week</th>\n",
              "      <th>Cholesterol_Level</th>\n",
              "      <th>Weight</th>\n",
              "      <th>Height</th>\n",
              "      <th>Blood_Pressure</th>\n",
              "    </tr>\n",
              "  </thead>\n",
              "  <tbody>\n",
              "    <tr>\n",
              "      <th>count</th>\n",
              "      <td>2000.000000</td>\n",
              "      <td>2000.000000</td>\n",
              "      <td>2.000000e+03</td>\n",
              "      <td>2000.000000</td>\n",
              "      <td>2000.000000</td>\n",
              "      <td>2000.000000</td>\n",
              "      <td>2000.000000</td>\n",
              "      <td>2000.000000</td>\n",
              "      <td>2000.000000</td>\n",
              "    </tr>\n",
              "    <tr>\n",
              "      <th>mean</th>\n",
              "      <td>999.500000</td>\n",
              "      <td>39.417500</td>\n",
              "      <td>4.889928e+06</td>\n",
              "      <td>5.356912</td>\n",
              "      <td>9.951842</td>\n",
              "      <td>200.223191</td>\n",
              "      <td>70.234359</td>\n",
              "      <td>150.730565</td>\n",
              "      <td>119.682437</td>\n",
              "    </tr>\n",
              "    <tr>\n",
              "      <th>std</th>\n",
              "      <td>577.494589</td>\n",
              "      <td>11.560753</td>\n",
              "      <td>2.010795e+06</td>\n",
              "      <td>0.917069</td>\n",
              "      <td>4.909573</td>\n",
              "      <td>0.972594</td>\n",
              "      <td>10.174343</td>\n",
              "      <td>0.680443</td>\n",
              "      <td>11.201412</td>\n",
              "    </tr>\n",
              "    <tr>\n",
              "      <th>min</th>\n",
              "      <td>0.000000</td>\n",
              "      <td>20.000000</td>\n",
              "      <td>-1.088987e+06</td>\n",
              "      <td>2.528057</td>\n",
              "      <td>-4.499310</td>\n",
              "      <td>196.914948</td>\n",
              "      <td>32.581758</td>\n",
              "      <td>149.124594</td>\n",
              "      <td>0.000000</td>\n",
              "    </tr>\n",
              "    <tr>\n",
              "      <th>25%</th>\n",
              "      <td>499.750000</td>\n",
              "      <td>30.000000</td>\n",
              "      <td>3.580714e+06</td>\n",
              "      <td>4.737650</td>\n",
              "      <td>6.654951</td>\n",
              "      <td>199.581975</td>\n",
              "      <td>63.654894</td>\n",
              "      <td>150.240019</td>\n",
              "      <td>113.048602</td>\n",
              "    </tr>\n",
              "    <tr>\n",
              "      <th>50%</th>\n",
              "      <td>999.500000</td>\n",
              "      <td>39.000000</td>\n",
              "      <td>4.898901e+06</td>\n",
              "      <td>5.351795</td>\n",
              "      <td>9.927028</td>\n",
              "      <td>200.221522</td>\n",
              "      <td>70.392125</td>\n",
              "      <td>150.663619</td>\n",
              "      <td>119.937396</td>\n",
              "    </tr>\n",
              "    <tr>\n",
              "      <th>75%</th>\n",
              "      <td>1499.250000</td>\n",
              "      <td>49.250000</td>\n",
              "      <td>6.271595e+06</td>\n",
              "      <td>6.003014</td>\n",
              "      <td>13.232218</td>\n",
              "      <td>200.873647</td>\n",
              "      <td>76.894512</td>\n",
              "      <td>151.140489</td>\n",
              "      <td>126.608781</td>\n",
              "    </tr>\n",
              "    <tr>\n",
              "      <th>max</th>\n",
              "      <td>1999.000000</td>\n",
              "      <td>59.000000</td>\n",
              "      <td>1.222749e+07</td>\n",
              "      <td>8.581327</td>\n",
              "      <td>26.816358</td>\n",
              "      <td>203.162335</td>\n",
              "      <td>109.609562</td>\n",
              "      <td>153.870469</td>\n",
              "      <td>200.950000</td>\n",
              "    </tr>\n",
              "  </tbody>\n",
              "</table>\n",
              "</div>"
            ],
            "text/plain": [
              "        Unnamed: 0          Age        Income  Stress_Level  \\\n",
              "count  2000.000000  2000.000000  2.000000e+03   2000.000000   \n",
              "mean    999.500000    39.417500  4.889928e+06      5.356912   \n",
              "std     577.494589    11.560753  2.010795e+06      0.917069   \n",
              "min       0.000000    20.000000 -1.088987e+06      2.528057   \n",
              "25%     499.750000    30.000000  3.580714e+06      4.737650   \n",
              "50%     999.500000    39.000000  4.898901e+06      5.351795   \n",
              "75%    1499.250000    49.250000  6.271595e+06      6.003014   \n",
              "max    1999.000000    59.000000  1.222749e+07      8.581327   \n",
              "\n",
              "       Exercise_Hours_Per_Week  Cholesterol_Level       Weight       Height  \\\n",
              "count              2000.000000        2000.000000  2000.000000  2000.000000   \n",
              "mean                  9.951842         200.223191    70.234359   150.730565   \n",
              "std                   4.909573           0.972594    10.174343     0.680443   \n",
              "min                  -4.499310         196.914948    32.581758   149.124594   \n",
              "25%                   6.654951         199.581975    63.654894   150.240019   \n",
              "50%                   9.927028         200.221522    70.392125   150.663619   \n",
              "75%                  13.232218         200.873647    76.894512   151.140489   \n",
              "max                  26.816358         203.162335   109.609562   153.870469   \n",
              "\n",
              "       Blood_Pressure  \n",
              "count     2000.000000  \n",
              "mean       119.682437  \n",
              "std         11.201412  \n",
              "min          0.000000  \n",
              "25%        113.048602  \n",
              "50%        119.937396  \n",
              "75%        126.608781  \n",
              "max        200.950000  "
            ]
          },
          "execution_count": 3,
          "metadata": {},
          "output_type": "execute_result"
        }
      ],
      "source": [
        "main_df.describe()"
      ]
    },
    {
      "cell_type": "code",
      "execution_count": 4,
      "metadata": {
        "colab": {
          "base_uri": "https://localhost:8080/"
        },
        "id": "9G9P3_Hte7c4",
        "outputId": "82e4e9f4-e88f-4d76-f99c-6bcb3949ffc4"
      },
      "outputs": [
        {
          "data": {
            "text/plain": [
              "Unnamed: 0                   int64\n",
              "Age                          int64\n",
              "Income                     float64\n",
              "Gender                      object\n",
              "Education                   object\n",
              "Stress_Level               float64\n",
              "Exercise_Hours_Per_Week    float64\n",
              "Cholesterol_Level          float64\n",
              "Weight                     float64\n",
              "Height                     float64\n",
              "Blood_Pressure             float64\n",
              "Health_Status               object\n",
              "dtype: object"
            ]
          },
          "execution_count": 4,
          "metadata": {},
          "output_type": "execute_result"
        }
      ],
      "source": [
        "main_df.dtypes"
      ]
    },
    {
      "cell_type": "markdown",
      "metadata": {},
      "source": [
        "## **0. Data Cleansing**\n",
        "sebelum membuat deskripsi statistika dll, diperlukan tahapan untuk memastikan seluruh baris pada data \"bersih\". Hal-hal yang perlu dibersihkan antaralain:\n",
        "\n",
        "- _undefined_ pada suatu kolom\n",
        "- _negative_ pada kolom yang tidak mungkin bernilai negatif\n",
        "- 0 pada kolom yang tidak mungkin bernilai 0"
      ]
    },
    {
      "cell_type": "code",
      "execution_count": 5,
      "metadata": {},
      "outputs": [
        {
          "name": "stdout",
          "output_type": "stream",
          "text": [
            "Unnamed: 0\n",
            "[   0    1    2 ... 1997 1998 1999]\n",
            "\n",
            "Age\n",
            "[20 21 22 23 24 25 26 27 28 29 30 31 32 33 34 35 36 37 38 39 40 41 42 43\n",
            " 44 45 46 47 48 49 50 51 52 53 54 55 56 57 58 59]\n",
            "\n",
            "Income\n",
            "[-1088986.52640496  -967729.12542885  -637266.33760628 ...\n",
            " 10734123.42989345 11988906.87047028 12227492.23      ]\n",
            "\n",
            "Gender\n",
            "['Female' 'Male']\n",
            "\n",
            "Education\n",
            "[\"Bachelor's Degree\" 'High School' \"Master's Degree\" 'Other' 'PhD'\n",
            " 'undefined']\n",
            "\n",
            "Stress_Level\n",
            "[2.52805661 2.66176402 2.68630775 ... 8.16888453 8.1915708  8.58132717]\n",
            "\n",
            "Exercise_Hours_Per_Week\n",
            "[-4.4993105  -4.29896855 -4.24773278 ... 25.53054266 26.79592615\n",
            " 26.81635847]\n",
            "\n",
            "Cholesterol_Level\n",
            "[196.91494771 197.00949963 197.02829761 ... 202.92126853 202.94200095\n",
            " 203.162335  ]\n",
            "\n",
            "Weight\n",
            "[ 32.58175761  38.02248115  38.66654656 ... 102.70816714 103.48818192\n",
            " 109.60956203]\n",
            "\n",
            "Height\n",
            "[149.12459377 149.14376408 149.22506075 ... 153.4943848  153.84377719\n",
            " 153.87046895]\n",
            "\n",
            "Blood_Pressure\n",
            "[  0.          10.78        44.45       ... 152.64347569 154.42765622\n",
            " 200.95      ]\n",
            "\n",
            "Health_Status\n",
            "['Excellent' 'Fair' 'Good' 'Poor']\n",
            "\n"
          ]
        }
      ],
      "source": [
        "for x in main_df.columns:\n",
        "    print(x)\n",
        "    print(np.sort(main_df[x].unique()))\n",
        "    print()"
      ]
    },
    {
      "cell_type": "markdown",
      "metadata": {},
      "source": [
        "Dari proses sebelumnya didapatkan bahwa terdapat beberapa kolom yang memiliki permasalahan seperti\n",
        "- Income - bernilai negatif\n",
        "- Education - undefined\n",
        "- Excersice Hour Per Week - negative value\n",
        "- Blood Pressure - bernilai 0\n",
        "\n",
        "maka dari itu, akan dilakukan data cleansing terlebih dahulu untuk mendapatkan nilai kuartil baru yang lebih akurat, yang kemudian akan digunakan untuk membuang outlier."
      ]
    },
    {
      "cell_type": "code",
      "execution_count": 6,
      "metadata": {},
      "outputs": [
        {
          "data": {
            "text/plain": [
              "(2000, 12)"
            ]
          },
          "execution_count": 6,
          "metadata": {},
          "output_type": "execute_result"
        }
      ],
      "source": [
        "main_df.shape"
      ]
    },
    {
      "cell_type": "code",
      "execution_count": 11,
      "metadata": {},
      "outputs": [
        {
          "data": {
            "text/html": [
              "<div>\n",
              "<style scoped>\n",
              "    .dataframe tbody tr th:only-of-type {\n",
              "        vertical-align: middle;\n",
              "    }\n",
              "\n",
              "    .dataframe tbody tr th {\n",
              "        vertical-align: top;\n",
              "    }\n",
              "\n",
              "    .dataframe thead th {\n",
              "        text-align: right;\n",
              "    }\n",
              "</style>\n",
              "<table border=\"1\" class=\"dataframe\">\n",
              "  <thead>\n",
              "    <tr style=\"text-align: right;\">\n",
              "      <th></th>\n",
              "      <th>Unnamed: 0</th>\n",
              "      <th>Age</th>\n",
              "      <th>Income</th>\n",
              "      <th>Gender</th>\n",
              "      <th>Education</th>\n",
              "      <th>Stress_Level</th>\n",
              "      <th>Exercise_Hours_Per_Week</th>\n",
              "      <th>Cholesterol_Level</th>\n",
              "      <th>Weight</th>\n",
              "      <th>Height</th>\n",
              "      <th>Blood_Pressure</th>\n",
              "      <th>Health_Status</th>\n",
              "    </tr>\n",
              "  </thead>\n",
              "  <tbody>\n",
              "    <tr>\n",
              "      <th>0</th>\n",
              "      <td>0.0</td>\n",
              "      <td>50.0</td>\n",
              "      <td>3.093457e+06</td>\n",
              "      <td>Male</td>\n",
              "      <td>Bachelor's Degree</td>\n",
              "      <td>4.967887</td>\n",
              "      <td>16.632494</td>\n",
              "      <td>200.419036</td>\n",
              "      <td>70.917032</td>\n",
              "      <td>150.401537</td>\n",
              "      <td>125.568820</td>\n",
              "      <td>Excellent</td>\n",
              "    </tr>\n",
              "    <tr>\n",
              "      <th>1</th>\n",
              "      <td>1.0</td>\n",
              "      <td>44.0</td>\n",
              "      <td>5.545445e+06</td>\n",
              "      <td>Male</td>\n",
              "      <td>Bachelor's Degree</td>\n",
              "      <td>5.833649</td>\n",
              "      <td>13.255988</td>\n",
              "      <td>201.010046</td>\n",
              "      <td>70.669576</td>\n",
              "      <td>149.285349</td>\n",
              "      <td>125.603505</td>\n",
              "      <td>Fair</td>\n",
              "    </tr>\n",
              "    <tr>\n",
              "      <th>2</th>\n",
              "      <td>2.0</td>\n",
              "      <td>25.0</td>\n",
              "      <td>4.401808e+06</td>\n",
              "      <td>Male</td>\n",
              "      <td>Master's Degree</td>\n",
              "      <td>5.587946</td>\n",
              "      <td>11.144370</td>\n",
              "      <td>200.105258</td>\n",
              "      <td>67.464506</td>\n",
              "      <td>150.020695</td>\n",
              "      <td>127.093163</td>\n",
              "      <td>Excellent</td>\n",
              "    </tr>\n",
              "    <tr>\n",
              "      <th>3</th>\n",
              "      <td>3.0</td>\n",
              "      <td>41.0</td>\n",
              "      <td>4.606865e+06</td>\n",
              "      <td>Female</td>\n",
              "      <td>High School</td>\n",
              "      <td>6.271119</td>\n",
              "      <td>9.140268</td>\n",
              "      <td>199.648701</td>\n",
              "      <td>67.566598</td>\n",
              "      <td>150.360963</td>\n",
              "      <td>117.388100</td>\n",
              "      <td>Poor</td>\n",
              "    </tr>\n",
              "    <tr>\n",
              "      <th>4</th>\n",
              "      <td>4.0</td>\n",
              "      <td>24.0</td>\n",
              "      <td>6.956049e+06</td>\n",
              "      <td>Male</td>\n",
              "      <td>Bachelor's Degree</td>\n",
              "      <td>5.895226</td>\n",
              "      <td>9.775610</td>\n",
              "      <td>199.330152</td>\n",
              "      <td>79.601530</td>\n",
              "      <td>149.730525</td>\n",
              "      <td>114.163706</td>\n",
              "      <td>Fair</td>\n",
              "    </tr>\n",
              "    <tr>\n",
              "      <th>...</th>\n",
              "      <td>...</td>\n",
              "      <td>...</td>\n",
              "      <td>...</td>\n",
              "      <td>...</td>\n",
              "      <td>...</td>\n",
              "      <td>...</td>\n",
              "      <td>...</td>\n",
              "      <td>...</td>\n",
              "      <td>...</td>\n",
              "      <td>...</td>\n",
              "      <td>...</td>\n",
              "      <td>...</td>\n",
              "    </tr>\n",
              "    <tr>\n",
              "      <th>1995</th>\n",
              "      <td>1995.0</td>\n",
              "      <td>22.0</td>\n",
              "      <td>2.072546e+06</td>\n",
              "      <td>Male</td>\n",
              "      <td>Master's Degree</td>\n",
              "      <td>5.356903</td>\n",
              "      <td>14.428793</td>\n",
              "      <td>200.696341</td>\n",
              "      <td>49.569958</td>\n",
              "      <td>150.114380</td>\n",
              "      <td>113.658773</td>\n",
              "      <td>Fair</td>\n",
              "    </tr>\n",
              "    <tr>\n",
              "      <th>1996</th>\n",
              "      <td>1996.0</td>\n",
              "      <td>25.0</td>\n",
              "      <td>7.456909e+06</td>\n",
              "      <td>Female</td>\n",
              "      <td>Master's Degree</td>\n",
              "      <td>5.499054</td>\n",
              "      <td>5.349180</td>\n",
              "      <td>198.991264</td>\n",
              "      <td>73.592521</td>\n",
              "      <td>149.828511</td>\n",
              "      <td>107.860829</td>\n",
              "      <td>Excellent</td>\n",
              "    </tr>\n",
              "    <tr>\n",
              "      <th>1997</th>\n",
              "      <td>1997.0</td>\n",
              "      <td>44.0</td>\n",
              "      <td>5.560391e+06</td>\n",
              "      <td>Male</td>\n",
              "      <td>PhD</td>\n",
              "      <td>7.034253</td>\n",
              "      <td>3.746812</td>\n",
              "      <td>200.576659</td>\n",
              "      <td>44.493272</td>\n",
              "      <td>150.587193</td>\n",
              "      <td>138.210854</td>\n",
              "      <td>Poor</td>\n",
              "    </tr>\n",
              "    <tr>\n",
              "      <th>1998</th>\n",
              "      <td>1998.0</td>\n",
              "      <td>20.0</td>\n",
              "      <td>3.436759e+06</td>\n",
              "      <td>Male</td>\n",
              "      <td>Bachelor's Degree</td>\n",
              "      <td>5.690408</td>\n",
              "      <td>5.720289</td>\n",
              "      <td>200.206448</td>\n",
              "      <td>85.255918</td>\n",
              "      <td>150.825614</td>\n",
              "      <td>127.516222</td>\n",
              "      <td>Good</td>\n",
              "    </tr>\n",
              "    <tr>\n",
              "      <th>1999</th>\n",
              "      <td>1999.0</td>\n",
              "      <td>51.0</td>\n",
              "      <td>3.343102e+06</td>\n",
              "      <td>Male</td>\n",
              "      <td>Bachelor's Degree</td>\n",
              "      <td>5.572117</td>\n",
              "      <td>11.885388</td>\n",
              "      <td>199.824527</td>\n",
              "      <td>85.934284</td>\n",
              "      <td>151.279954</td>\n",
              "      <td>130.788995</td>\n",
              "      <td>Poor</td>\n",
              "    </tr>\n",
              "  </tbody>\n",
              "</table>\n",
              "<p>1937 rows × 12 columns</p>\n",
              "</div>"
            ],
            "text/plain": [
              "      Unnamed: 0   Age        Income  Gender          Education  Stress_Level  \\\n",
              "0            0.0  50.0  3.093457e+06    Male  Bachelor's Degree      4.967887   \n",
              "1            1.0  44.0  5.545445e+06    Male  Bachelor's Degree      5.833649   \n",
              "2            2.0  25.0  4.401808e+06    Male    Master's Degree      5.587946   \n",
              "3            3.0  41.0  4.606865e+06  Female        High School      6.271119   \n",
              "4            4.0  24.0  6.956049e+06    Male  Bachelor's Degree      5.895226   \n",
              "...          ...   ...           ...     ...                ...           ...   \n",
              "1995      1995.0  22.0  2.072546e+06    Male    Master's Degree      5.356903   \n",
              "1996      1996.0  25.0  7.456909e+06  Female    Master's Degree      5.499054   \n",
              "1997      1997.0  44.0  5.560391e+06    Male                PhD      7.034253   \n",
              "1998      1998.0  20.0  3.436759e+06    Male  Bachelor's Degree      5.690408   \n",
              "1999      1999.0  51.0  3.343102e+06    Male  Bachelor's Degree      5.572117   \n",
              "\n",
              "      Exercise_Hours_Per_Week  Cholesterol_Level     Weight      Height  \\\n",
              "0                   16.632494         200.419036  70.917032  150.401537   \n",
              "1                   13.255988         201.010046  70.669576  149.285349   \n",
              "2                   11.144370         200.105258  67.464506  150.020695   \n",
              "3                    9.140268         199.648701  67.566598  150.360963   \n",
              "4                    9.775610         199.330152  79.601530  149.730525   \n",
              "...                       ...                ...        ...         ...   \n",
              "1995                14.428793         200.696341  49.569958  150.114380   \n",
              "1996                 5.349180         198.991264  73.592521  149.828511   \n",
              "1997                 3.746812         200.576659  44.493272  150.587193   \n",
              "1998                 5.720289         200.206448  85.255918  150.825614   \n",
              "1999                11.885388         199.824527  85.934284  151.279954   \n",
              "\n",
              "      Blood_Pressure Health_Status  \n",
              "0         125.568820     Excellent  \n",
              "1         125.603505          Fair  \n",
              "2         127.093163     Excellent  \n",
              "3         117.388100          Poor  \n",
              "4         114.163706          Fair  \n",
              "...              ...           ...  \n",
              "1995      113.658773          Fair  \n",
              "1996      107.860829     Excellent  \n",
              "1997      138.210854          Poor  \n",
              "1998      127.516222          Good  \n",
              "1999      130.788995          Poor  \n",
              "\n",
              "[1937 rows x 12 columns]"
            ]
          },
          "execution_count": 11,
          "metadata": {},
          "output_type": "execute_result"
        }
      ],
      "source": [
        "temp_df = main_df.where(main_df['Income'] >= 0)\n",
        "temp_df = temp_df.where(temp_df['Education'] != \"undefined\")\n",
        "temp_df = temp_df.where(temp_df['Exercise_Hours_Per_Week'] >= 0)\n",
        "temp_df = temp_df.where(temp_df['Blood_Pressure'] > 0)\n",
        "\n",
        "clean_df_phase1 = temp_df.dropna()\n",
        "clean_df_phase1"
      ]
    },
    {
      "cell_type": "markdown",
      "metadata": {},
      "source": [
        "Setelah _data cleansing_ didapatkan bahwa dari 2000 baris, hanya dibuang 63 baris, **3.15%** dari keseluruhan dataset, sehingga tidak apa jika data-data yang salah dibuang"
      ]
    },
    {
      "cell_type": "markdown",
      "metadata": {
        "id": "PnYvFF-tUNla"
      },
      "source": [
        "## **1. Deskripsi statistika**\n",
        "\n",
        "Menulis deskripsi statistika (Descriptive Statistics) dari semua kolom pada data. Data yang bersifat numerik dapat diberikan nilai mean, median, modus, standar deviasi, variansi, range, nilai minimum, maksimum, kuartil, IQR, skewness dan kurtosis. Data dalam bentuk string dapat dicari unique values, dan proporsi nya.\n"
      ]
    },
    {
      "cell_type": "markdown",
      "metadata": {
        "id": "M4N9sjz4Ue2e"
      },
      "source": [
        "### Fungsi Buatan"
      ]
    },
    {
      "cell_type": "code",
      "execution_count": 12,
      "metadata": {
        "id": "ZUTg3FVmfPfT"
      },
      "outputs": [],
      "source": [
        "def getMean(column: pd.core.series.Series):\n",
        "  if(column.dtypes != 'O'):\n",
        "    return sum(column) / len(column)\n",
        "\n",
        "def getMedian(column: pd.core.series.Series):\n",
        "  if(column.dtypes != 'O'):\n",
        "    column = column.sort_values()\n",
        "    mid = column.size // 2\n",
        "\n",
        "    if column.size % 2 == 0:\n",
        "      return (column.iloc[mid-1] + column.iloc[mid]) / 2\n",
        "\n",
        "    return column[mid]\n",
        "\n",
        "def getModus(column: pd.core.series.Series):\n",
        "  dictionary_element = {}\n",
        "  for x in column:\n",
        "    if x in dictionary_element:\n",
        "      dictionary_element[x] += 1\n",
        "    else:\n",
        "      dictionary_element.setdefault(x, 1)\n",
        "  # print(column.mode())\n",
        "  return max(dictionary_element, key=lambda k: dictionary_element[k])\n",
        "\n",
        "def getStd(column: pd.core.series.Series):\n",
        "  std_dev = getVariance(column) ** 0.5\n",
        "  return std_dev\n",
        "\n",
        "def getVariance(column: pd.core.series.Series):\n",
        "  mean_val = getMean(column)\n",
        "  squared_diff = [(x - mean_val) ** 2 for x in column]\n",
        "  variance = sum(squared_diff) / len(column)\n",
        "  return variance\n",
        "\n",
        "def getRange(column: pd.core.series.Series):\n",
        "  return getMax(column) - getMin(column)\n",
        "\n",
        "def getMax(column: pd.core.series.Series):\n",
        "  return max(column)\n",
        "\n",
        "def getMin(column: pd.core.series.Series):\n",
        "  return min(column)\n",
        "\n",
        "def getKuartil(column: pd.core.series.Series):\n",
        "  column = column.sort_values()\n",
        "\n",
        "  q2 = getMedian(column)\n",
        "  lower_half = [x for x in column if x < q2]\n",
        "  upper_half = [x for x in column if x > q2]\n",
        "  lower_half = pd.Series(lower_half)\n",
        "  upper_half = pd.Series(upper_half)\n",
        "  q1 = getMedian(lower_half)\n",
        "  q3 = getMedian(upper_half)\n",
        "  return [q1, q2, q3]\n",
        "\n",
        "def getInterKuartil(column: pd.core.series.Series):\n",
        "  quartile = getKuartil(column)\n",
        "  return quartile[2] - quartile[0]\n",
        "\n",
        "def getSkewness(column: pd.core.series.Series):\n",
        "  return sum((x - getMean(column)) ** 3 for x in column) / (len(column) * getStd(column) ** 3)\n",
        "\n",
        "def kurtosis(column: pd.core.series.Series):\n",
        "  return sum((x - getMean(column)) ** 4 for x in column) / (len(column) * getStd(column) ** 4) - 3\n",
        "\n",
        "def getUnique(column: pd.core.series.Series):\n",
        "  unique_set = set()\n",
        "  for x in column:\n",
        "    unique_set.add(x)\n",
        "  return unique_set\n",
        "\n",
        "def getProportion(column: pd.core.series.Series):\n",
        "  dictionary_element = {}\n",
        "  for x in column:\n",
        "    if x in dictionary_element:\n",
        "      dictionary_element[x] += 1\n",
        "    else:\n",
        "      dictionary_element.setdefault(x, 1)\n",
        "\n",
        "  sum_val = sum(dictionary_element.values())\n",
        "  for x in dictionary_element:\n",
        "    dictionary_element[x] /= sum_val\n",
        "\n",
        "  return dictionary_element\n",
        "\n",
        "def showInfo(column: pd.core.series.Series):\n",
        "  if(column.dtypes != 'O'):\n",
        "    x = getMean(column)\n",
        "    print(\"Rata-rata: \" + str(x))\n",
        "    x = getMedian(column)\n",
        "    print(\"Median: \" + str(x))\n",
        "    x = getModus(column)\n",
        "    print(\"Modus: \" + str(x))\n",
        "    x = getStd(column)\n",
        "    print(\"Standar Deviasi: \" + str(x))\n",
        "    x = getVariance(main_df['Age'])\n",
        "    print(\"Variansi: \" + str(x))\n",
        "    x = getRange(column)\n",
        "    print(\"Range: \" + str(x))\n",
        "    x = getMin(column)\n",
        "    print(\"Nilai Minimum: \" + str(x))\n",
        "    x = getMax(column)\n",
        "    print(\"Nilai Maksimum: \" + str(x))\n",
        "    x = getKuartil(column)\n",
        "    print(\"Kuartil: \" + str(x))\n",
        "    x = getInterKuartil(column)\n",
        "    print(\"Inter Kuartil: \" + str(x))\n",
        "    x = getSkewness(column)\n",
        "    print(\"Skewness: \" + str(x))\n",
        "    x = kurtosis(column)\n",
        "    print(\"Kurtosis: \" + str(x))\n",
        "  else:\n",
        "    x = getUnique(column)\n",
        "    print(\"Unique values: \" + str(x))\n",
        "    x = getProportion(column)\n",
        "    print(\"proportion:\")\n",
        "    print(x)"
      ]
    },
    {
      "cell_type": "code",
      "execution_count": 122,
      "metadata": {},
      "outputs": [
        {
          "name": "stdout",
          "output_type": "stream",
          "text": [
            "Gender\n",
            "['Male' 'Female']\n",
            "{'Male': 0.4940629839958699, 'Female': 0.5059370160041301}\n",
            "\n",
            "Education\n",
            "[\"Bachelor's Degree\" \"Master's Degree\" 'High School' 'PhD' 'Other']\n",
            "{\"Bachelor's Degree\": 0.47186370676303563, \"Master's Degree\": 0.24574083634486318, 'High School': 0.13216313887454828, 'PhD': 0.12287041817243159, 'Other': 0.027361899845121322}\n",
            "\n",
            "Health_Status\n",
            "['Excellent' 'Fair' 'Poor' 'Good']\n",
            "{'Excellent': 0.2550335570469799, 'Fair': 0.2591636551368095, 'Poor': 0.2514197212183789, 'Good': 0.2343830665978317}\n",
            "\n"
          ]
        }
      ],
      "source": [
        "# list of string columns\n",
        "string_columns = clean_df_phase1.select_dtypes(include=['object']).columns\n",
        "\n",
        "for x in string_columns:\n",
        "    print(x)\n",
        "    print(clean_df_phase1[x].unique())\n",
        "    print(getProportion(clean_df_phase1[x]))\n",
        "    print()\n",
        "\n"
      ]
    },
    {
      "cell_type": "code",
      "execution_count": 14,
      "metadata": {},
      "outputs": [
        {
          "data": {
            "text/html": [
              "<div>\n",
              "<style scoped>\n",
              "    .dataframe tbody tr th:only-of-type {\n",
              "        vertical-align: middle;\n",
              "    }\n",
              "\n",
              "    .dataframe tbody tr th {\n",
              "        vertical-align: top;\n",
              "    }\n",
              "\n",
              "    .dataframe thead th {\n",
              "        text-align: right;\n",
              "    }\n",
              "</style>\n",
              "<table border=\"1\" class=\"dataframe\">\n",
              "  <thead>\n",
              "    <tr style=\"text-align: right;\">\n",
              "      <th></th>\n",
              "      <th>Age</th>\n",
              "      <th>Blood_Pressure</th>\n",
              "      <th>Cholesterol_Level</th>\n",
              "      <th>Exercise_Hours_Per_Week</th>\n",
              "      <th>Height</th>\n",
              "      <th>Income</th>\n",
              "      <th>Stress_Level</th>\n",
              "      <th>Unnamed: 0</th>\n",
              "      <th>Weight</th>\n",
              "    </tr>\n",
              "  </thead>\n",
              "  <tbody>\n",
              "    <tr>\n",
              "      <th>count</th>\n",
              "      <td>1937.000000</td>\n",
              "      <td>1937.000000</td>\n",
              "      <td>1937.000000</td>\n",
              "      <td>1937.000000</td>\n",
              "      <td>1937.000000</td>\n",
              "      <td>1.937000e+03</td>\n",
              "      <td>1937.000000</td>\n",
              "      <td>1937.000000</td>\n",
              "      <td>1937.000000</td>\n",
              "    </tr>\n",
              "    <tr>\n",
              "      <th>mean</th>\n",
              "      <td>39.404750</td>\n",
              "      <td>119.849171</td>\n",
              "      <td>200.221227</td>\n",
              "      <td>10.198466</td>\n",
              "      <td>150.733023</td>\n",
              "      <td>4.925002e+06</td>\n",
              "      <td>5.360519</td>\n",
              "      <td>1002.130614</td>\n",
              "      <td>70.237876</td>\n",
              "    </tr>\n",
              "    <tr>\n",
              "      <th>median</th>\n",
              "      <td>39.000000</td>\n",
              "      <td>120.082637</td>\n",
              "      <td>200.219447</td>\n",
              "      <td>10.039518</td>\n",
              "      <td>150.665062</td>\n",
              "      <td>4.901045e+06</td>\n",
              "      <td>5.355749</td>\n",
              "      <td>1001.000000</td>\n",
              "      <td>70.371063</td>\n",
              "    </tr>\n",
              "    <tr>\n",
              "      <th>modus</th>\n",
              "      <td>20.000000</td>\n",
              "      <td>10.780000</td>\n",
              "      <td>196.914948</td>\n",
              "      <td>0.022518</td>\n",
              "      <td>149.124594</td>\n",
              "      <td>7.554092e+02</td>\n",
              "      <td>2.528057</td>\n",
              "      <td>0.000000</td>\n",
              "      <td>32.581758</td>\n",
              "    </tr>\n",
              "    <tr>\n",
              "      <th>std</th>\n",
              "      <td>11.563619</td>\n",
              "      <td>10.588517</td>\n",
              "      <td>0.975617</td>\n",
              "      <td>4.674551</td>\n",
              "      <td>0.684895</td>\n",
              "      <td>1.960694e+06</td>\n",
              "      <td>0.918790</td>\n",
              "      <td>576.189896</td>\n",
              "      <td>10.151861</td>\n",
              "    </tr>\n",
              "    <tr>\n",
              "      <th>variance</th>\n",
              "      <td>133.717291</td>\n",
              "      <td>112.116697</td>\n",
              "      <td>0.951828</td>\n",
              "      <td>21.851426</td>\n",
              "      <td>0.469081</td>\n",
              "      <td>3.844321e+12</td>\n",
              "      <td>0.844174</td>\n",
              "      <td>331994.796464</td>\n",
              "      <td>103.060274</td>\n",
              "    </tr>\n",
              "    <tr>\n",
              "      <th>range</th>\n",
              "      <td>39.000000</td>\n",
              "      <td>190.170000</td>\n",
              "      <td>6.247387</td>\n",
              "      <td>26.793841</td>\n",
              "      <td>4.745875</td>\n",
              "      <td>1.222674e+07</td>\n",
              "      <td>6.053271</td>\n",
              "      <td>1999.000000</td>\n",
              "      <td>77.027804</td>\n",
              "    </tr>\n",
              "    <tr>\n",
              "      <th>min</th>\n",
              "      <td>20.000000</td>\n",
              "      <td>10.780000</td>\n",
              "      <td>196.914948</td>\n",
              "      <td>0.022518</td>\n",
              "      <td>149.124594</td>\n",
              "      <td>7.554092e+02</td>\n",
              "      <td>2.528057</td>\n",
              "      <td>0.000000</td>\n",
              "      <td>32.581758</td>\n",
              "    </tr>\n",
              "    <tr>\n",
              "      <th>max</th>\n",
              "      <td>59.000000</td>\n",
              "      <td>200.950000</td>\n",
              "      <td>203.162335</td>\n",
              "      <td>26.816358</td>\n",
              "      <td>153.870469</td>\n",
              "      <td>1.222749e+07</td>\n",
              "      <td>8.581327</td>\n",
              "      <td>1999.000000</td>\n",
              "      <td>109.609562</td>\n",
              "    </tr>\n",
              "    <tr>\n",
              "      <th>range</th>\n",
              "      <td>39.000000</td>\n",
              "      <td>190.170000</td>\n",
              "      <td>6.247387</td>\n",
              "      <td>26.793841</td>\n",
              "      <td>4.745875</td>\n",
              "      <td>1.222674e+07</td>\n",
              "      <td>6.053271</td>\n",
              "      <td>1999.000000</td>\n",
              "      <td>77.027804</td>\n",
              "    </tr>\n",
              "    <tr>\n",
              "      <th>25%</th>\n",
              "      <td>30.000000</td>\n",
              "      <td>113.132753</td>\n",
              "      <td>199.576123</td>\n",
              "      <td>6.941609</td>\n",
              "      <td>150.239460</td>\n",
              "      <td>3.611064e+06</td>\n",
              "      <td>4.737880</td>\n",
              "      <td>507.000000</td>\n",
              "      <td>63.687501</td>\n",
              "    </tr>\n",
              "    <tr>\n",
              "      <th>50%</th>\n",
              "      <td>39.000000</td>\n",
              "      <td>120.082637</td>\n",
              "      <td>200.219447</td>\n",
              "      <td>10.039518</td>\n",
              "      <td>150.665062</td>\n",
              "      <td>4.901045e+06</td>\n",
              "      <td>5.355749</td>\n",
              "      <td>1001.000000</td>\n",
              "      <td>70.371063</td>\n",
              "    </tr>\n",
              "    <tr>\n",
              "      <th>75%</th>\n",
              "      <td>49.000000</td>\n",
              "      <td>126.682610</td>\n",
              "      <td>200.878567</td>\n",
              "      <td>13.352153</td>\n",
              "      <td>151.154549</td>\n",
              "      <td>6.270359e+06</td>\n",
              "      <td>6.004135</td>\n",
              "      <td>1497.000000</td>\n",
              "      <td>76.841060</td>\n",
              "    </tr>\n",
              "    <tr>\n",
              "      <th>iqr</th>\n",
              "      <td>19.000000</td>\n",
              "      <td>13.549857</td>\n",
              "      <td>1.302444</td>\n",
              "      <td>6.410543</td>\n",
              "      <td>0.915089</td>\n",
              "      <td>2.659295e+06</td>\n",
              "      <td>1.266255</td>\n",
              "      <td>990.000000</td>\n",
              "      <td>13.153560</td>\n",
              "    </tr>\n",
              "    <tr>\n",
              "      <th>skewness</th>\n",
              "      <td>-0.006272</td>\n",
              "      <td>-0.542039</td>\n",
              "      <td>-0.063813</td>\n",
              "      <td>0.248225</td>\n",
              "      <td>0.650478</td>\n",
              "      <td>1.010152e-01</td>\n",
              "      <td>-0.009740</td>\n",
              "      <td>-0.001840</td>\n",
              "      <td>-0.053892</td>\n",
              "    </tr>\n",
              "    <tr>\n",
              "      <th>kurtosis</th>\n",
              "      <td>-1.199534</td>\n",
              "      <td>8.317439</td>\n",
              "      <td>-0.005093</td>\n",
              "      <td>-0.134102</td>\n",
              "      <td>0.673168</td>\n",
              "      <td>-1.276160e-01</td>\n",
              "      <td>-0.126672</td>\n",
              "      <td>-1.190121</td>\n",
              "      <td>0.136802</td>\n",
              "    </tr>\n",
              "  </tbody>\n",
              "</table>\n",
              "</div>"
            ],
            "text/plain": [
              "                  Age  Blood_Pressure  Cholesterol_Level  \\\n",
              "count     1937.000000     1937.000000        1937.000000   \n",
              "mean        39.404750      119.849171         200.221227   \n",
              "median      39.000000      120.082637         200.219447   \n",
              "modus       20.000000       10.780000         196.914948   \n",
              "std         11.563619       10.588517           0.975617   \n",
              "variance   133.717291      112.116697           0.951828   \n",
              "range       39.000000      190.170000           6.247387   \n",
              "min         20.000000       10.780000         196.914948   \n",
              "max         59.000000      200.950000         203.162335   \n",
              "range       39.000000      190.170000           6.247387   \n",
              "25%         30.000000      113.132753         199.576123   \n",
              "50%         39.000000      120.082637         200.219447   \n",
              "75%         49.000000      126.682610         200.878567   \n",
              "iqr         19.000000       13.549857           1.302444   \n",
              "skewness    -0.006272       -0.542039          -0.063813   \n",
              "kurtosis    -1.199534        8.317439          -0.005093   \n",
              "\n",
              "          Exercise_Hours_Per_Week       Height        Income  Stress_Level  \\\n",
              "count                 1937.000000  1937.000000  1.937000e+03   1937.000000   \n",
              "mean                    10.198466   150.733023  4.925002e+06      5.360519   \n",
              "median                  10.039518   150.665062  4.901045e+06      5.355749   \n",
              "modus                    0.022518   149.124594  7.554092e+02      2.528057   \n",
              "std                      4.674551     0.684895  1.960694e+06      0.918790   \n",
              "variance                21.851426     0.469081  3.844321e+12      0.844174   \n",
              "range                   26.793841     4.745875  1.222674e+07      6.053271   \n",
              "min                      0.022518   149.124594  7.554092e+02      2.528057   \n",
              "max                     26.816358   153.870469  1.222749e+07      8.581327   \n",
              "range                   26.793841     4.745875  1.222674e+07      6.053271   \n",
              "25%                      6.941609   150.239460  3.611064e+06      4.737880   \n",
              "50%                     10.039518   150.665062  4.901045e+06      5.355749   \n",
              "75%                     13.352153   151.154549  6.270359e+06      6.004135   \n",
              "iqr                      6.410543     0.915089  2.659295e+06      1.266255   \n",
              "skewness                 0.248225     0.650478  1.010152e-01     -0.009740   \n",
              "kurtosis                -0.134102     0.673168 -1.276160e-01     -0.126672   \n",
              "\n",
              "             Unnamed: 0       Weight  \n",
              "count       1937.000000  1937.000000  \n",
              "mean        1002.130614    70.237876  \n",
              "median      1001.000000    70.371063  \n",
              "modus          0.000000    32.581758  \n",
              "std          576.189896    10.151861  \n",
              "variance  331994.796464   103.060274  \n",
              "range       1999.000000    77.027804  \n",
              "min            0.000000    32.581758  \n",
              "max         1999.000000   109.609562  \n",
              "range       1999.000000    77.027804  \n",
              "25%          507.000000    63.687501  \n",
              "50%         1001.000000    70.371063  \n",
              "75%         1497.000000    76.841060  \n",
              "iqr          990.000000    13.153560  \n",
              "skewness      -0.001840    -0.053892  \n",
              "kurtosis      -1.190121     0.136802  "
            ]
          },
          "execution_count": 14,
          "metadata": {},
          "output_type": "execute_result"
        }
      ],
      "source": [
        "# list of numerical columns\n",
        "numerical_columns = clean_df_phase1.columns.difference(string_columns)\n",
        "\n",
        "numerical_columns_df = clean_df_phase1[numerical_columns].describe()\n",
        "\n",
        "numerical_columns_df.loc['median'] = clean_df_phase1[numerical_columns].median()\n",
        "numerical_columns_df.loc['modus'] = clean_df_phase1[numerical_columns].mode().loc[0]\n",
        "numerical_columns_df.loc['variance'] = clean_df_phase1[numerical_columns].var()\n",
        "numerical_columns_df.loc['iqr'] = numerical_columns_df.loc['75%'] - numerical_columns_df.loc['25%']\n",
        "numerical_columns_df.loc['skewness'] = clean_df_phase1[numerical_columns].skew()\n",
        "numerical_columns_df.loc['kurtosis'] = clean_df_phase1[numerical_columns].kurtosis()\n",
        "numerical_columns_df.loc['range'] = numerical_columns_df.loc['max'] - numerical_columns_df.loc['min']\n",
        "\n",
        "\n",
        "new_idx = ['count', 'mean', 'median', 'modus', 'std', 'variance', 'range', 'min', 'max', 'range', '25%', '50%', '75%', 'iqr', 'skewness', 'kurtosis']\n",
        "numerical_columns_df = numerical_columns_df.reindex(new_idx)\n",
        "\n",
        "numerical_columns_df"
      ]
    },
    {
      "cell_type": "markdown",
      "metadata": {
        "id": "r1b5bbLxcrF1"
      },
      "source": [
        "## **2. Outlier**\n",
        "Apakah pada data tersebut terdapat outlier? Jika ya, dapatkah anda menanganinya? Jelaskan apa yang umumnya dilakukan untuk menangani outlier."
      ]
    },
    {
      "cell_type": "markdown",
      "metadata": {},
      "source": [
        "Note: Use `numerical_columns_df` to clear the outlier in numerical datas"
      ]
    },
    {
      "cell_type": "code",
      "execution_count": 127,
      "metadata": {},
      "outputs": [
        {
          "name": "stdout",
          "output_type": "stream",
          "text": [
            "(1937, 12)\n",
            "(1825, 12)\n",
            "8.75\n"
          ]
        },
        {
          "name": "stderr",
          "output_type": "stream",
          "text": [
            "C:\\Users\\Asus Tuf Gaming\\AppData\\Local\\Temp\\ipykernel_21628\\110419524.py:10: UserWarning: Boolean Series key will be reindexed to match DataFrame index.\n",
            "  outlier_df = outlier_df[ (clean_df_phase1[column.name] <= upper_bound)]\n"
          ]
        }
      ],
      "source": [
        "outlier_df = clean_df_phase1\n",
        "unoutlier_df = clean_df_phase1\n",
        "\n",
        "print(outlier_df.shape)\n",
        "\n",
        "def clear_outlier(column: pd.core.series.Series, outlier_df):\n",
        "    upper_bound = column['75%'] + (1.5 * column.iqr)\n",
        "    lower_bound = column['25%'] - (1.5 * column.iqr)\n",
        "\n",
        "    outlier_df = outlier_df[ (clean_df_phase1[column.name] <= upper_bound)]\n",
        "    outlier_df = outlier_df[ (outlier_df[column.name] >= lower_bound) ]\n",
        "\n",
        "    outlier_df = outlier_df.dropna()\n",
        "\n",
        "    return outlier_df\n",
        "\n",
        "for x in numerical_columns:\n",
        "    # print(x)\n",
        "    outlier_df = clear_outlier(numerical_columns_df[x], outlier_df)\n",
        "# outlier_df = clear_outlier(numerical_columns_df['Blood_Pressure'])\n",
        "# outlier_df = clear_outlier(numerical_columns_df['Cholesterol_Level'])\n",
        "# outlier_df = clear_outlier(numerical_columns_df['Blood_Pressure'])\n",
        "\n",
        "print(outlier_df.shape)\n",
        "print(175 / 2000 * 100)\n",
        "\n",
        "clean_df = outlier_df"
      ]
    },
    {
      "cell_type": "markdown",
      "metadata": {},
      "source": [
        "Metode yang digunakan untuk mendeteksi outlier adalah dengan menggunakan nilai Q1, Q3, dan IQR. \n",
        "\n",
        "Metode yang digunakan untuk mengatasi outlier adalah dengan membuang data yang memiliki outlier. Berdasarkan hasil proses, didapatkan bahwa total data yang dibuang mulai dari data cleansing hingga proses penanganan outlier sebanyak 175 data yang merupakan 8.75% dari keseluruhan dataset. Menurut kami, nilai ini masih termasuk dalam batas wajar (< 10%).\n",
        "Alasan dibuang-nya data karena data-data outlier tersebut dapat mempengaruhi hasil perhitungan."
      ]
    },
    {
      "cell_type": "markdown",
      "metadata": {
        "id": "7k1QqAdYcuwx"
      },
      "source": [
        "## **3. Visualisasi Plot Distribusi**\n",
        "Membuat Visualisasi plot distribusi. Berikan uraian penjelasan kondisi setiap kolom berdasarkan kedua plot tersebut. Jika numerik dapat dibuat dalam bentuk histogram dan box plot, dan jika string dengan histogram."
      ]
    },
    {
      "cell_type": "code",
      "execution_count": 110,
      "metadata": {
        "id": "8iFZgrywclmU"
      },
      "outputs": [],
      "source": [
        "def distribution_plot(column: pd.core.series.Series):\n",
        "    # create a new figure with two subplots\n",
        "\n",
        "    if(column.dtypes == 'object'):\n",
        "        fig, ax1 = plt.subplots(ncols=1, figsize=(12,6))\n",
        "    else:\n",
        "        fig, (ax1, ax2) = plt.subplots(ncols=2, figsize=(12,6))\n",
        "\n",
        "    # plot the histogram of the data\n",
        "    sns.histplot(column, ax=ax1)\n",
        "    ax1.set_title(\"Histogram\")\n",
        "    ax1.set_ylabel(\"frequency\")\n",
        "    ax1.set_xlabel(\"value\")\n",
        "\n",
        "    if(column.dtypes != 'object'):\n",
        "        # plot the boxplot on the second subplot\n",
        "        ax2.boxplot(column, vert=True, widths=0.5, patch_artist=True, boxprops=dict(facecolor='lightblue', color='black'), medianprops=dict(color='red'))\n",
        "        ax2.set_title('Boxplot')\n",
        "        ax2.set_xlabel('value')\n",
        "        ax2.yaxis.tick_right()\n",
        "\n",
        "        # display the plot\n",
        "        plt.suptitle(column.name)\n",
        "        plt.show()"
      ]
    },
    {
      "cell_type": "markdown",
      "metadata": {},
      "source": [
        "### 1. Age"
      ]
    },
    {
      "cell_type": "code",
      "execution_count": 111,
      "metadata": {},
      "outputs": [
        {
          "data": {
            "image/png": "[encoded data removed]",
            "text/plain": [
              "<Figure size 1200x600 with 2 Axes>"
            ]
          },
          "metadata": {},
          "output_type": "display_data"
        }
      ],
      "source": [
        "distribution_plot(clean_df['Age'])"
      ]
    },
    {
      "cell_type": "markdown",
      "metadata": {},
      "source": [
        "### 2. Blood Pressure"
      ]
    },
    {
      "cell_type": "code",
      "execution_count": 112,
      "metadata": {},
      "outputs": [
        {
          "data": {
            "image/png": "[encoded data removed]",
            "text/plain": [
              "<Figure size 1200x600 with 2 Axes>"
            ]
          },
          "metadata": {},
          "output_type": "display_data"
        }
      ],
      "source": [
        "distribution_plot(clean_df['Blood_Pressure'])"
      ]
    },
    {
      "cell_type": "markdown",
      "metadata": {},
      "source": [
        "### 3. Cholesterol Level"
      ]
    },
    {
      "cell_type": "code",
      "execution_count": 113,
      "metadata": {},
      "outputs": [
        {
          "data": {
            "image/png": "[encoded data removed]",
            "text/plain": [
              "<Figure size 1200x600 with 2 Axes>"
            ]
          },
          "metadata": {},
          "output_type": "display_data"
        }
      ],
      "source": [
        "distribution_plot(clean_df['Cholesterol_Level'])"
      ]
    },
    {
      "cell_type": "markdown",
      "metadata": {},
      "source": [
        "### 4. Education"
      ]
    },
    {
      "cell_type": "code",
      "execution_count": 114,
      "metadata": {},
      "outputs": [
        {
          "data": {
            "image/png": "[encoded data removed]",
            "text/plain": [
              "<Figure size 1200x600 with 1 Axes>"
            ]
          },
          "metadata": {},
          "output_type": "display_data"
        }
      ],
      "source": [
        "distribution_plot(clean_df['Education'])"
      ]
    },
    {
      "cell_type": "markdown",
      "metadata": {},
      "source": [
        "### 5. Exercise Hours Per Week"
      ]
    },
    {
      "cell_type": "code",
      "execution_count": 115,
      "metadata": {},
      "outputs": [
        {
          "data": {
            "image/png": "[encoded data removed]",
            "text/plain": [
              "<Figure size 1200x600 with 2 Axes>"
            ]
          },
          "metadata": {},
          "output_type": "display_data"
        }
      ],
      "source": [
        "distribution_plot(clean_df['Exercise_Hours_Per_Week'])"
      ]
    },
    {
      "cell_type": "markdown",
      "metadata": {},
      "source": [
        "### 6. Gender"
      ]
    },
    {
      "cell_type": "code",
      "execution_count": 116,
      "metadata": {},
      "outputs": [
        {
          "data": {
            "image/png": "[encoded data removed]",
            "text/plain": [
              "<Figure size 1200x600 with 1 Axes>"
            ]
          },
          "metadata": {},
          "output_type": "display_data"
        }
      ],
      "source": [
        "distribution_plot(clean_df['Gender'])"
      ]
    },
    {
      "cell_type": "markdown",
      "metadata": {},
      "source": [
        "### 7. Health Status"
      ]
    },
    {
      "cell_type": "code",
      "execution_count": 117,
      "metadata": {},
      "outputs": [
        {
          "data": {
            "image/png": "[encoded data removed]",
            "text/plain": [
              "<Figure size 1200x600 with 1 Axes>"
            ]
          },
          "metadata": {},
          "output_type": "display_data"
        }
      ],
      "source": [
        "distribution_plot(clean_df['Health_Status'])"
      ]
    },
    {
      "cell_type": "markdown",
      "metadata": {},
      "source": [
        "### 8. Height"
      ]
    },
    {
      "cell_type": "code",
      "execution_count": 118,
      "metadata": {},
      "outputs": [
        {
          "data": {
            "image/png": "[encoded data removed]",
            "text/plain": [
              "<Figure size 1200x600 with 2 Axes>"
            ]
          },
          "metadata": {},
          "output_type": "display_data"
        }
      ],
      "source": [
        "distribution_plot(clean_df['Height'])"
      ]
    },
    {
      "cell_type": "markdown",
      "metadata": {},
      "source": [
        "### 9. Income"
      ]
    },
    {
      "cell_type": "code",
      "execution_count": 119,
      "metadata": {},
      "outputs": [
        {
          "data": {
            "image/png": "[encoded data removed]",
            "text/plain": [
              "<Figure size 1200x600 with 2 Axes>"
            ]
          },
          "metadata": {},
          "output_type": "display_data"
        }
      ],
      "source": [
        "distribution_plot(clean_df['Income'])"
      ]
    },
    {
      "cell_type": "markdown",
      "metadata": {},
      "source": [
        "### 10. Stress Level"
      ]
    },
    {
      "cell_type": "code",
      "execution_count": 120,
      "metadata": {},
      "outputs": [
        {
          "data": {
            "image/png": "[encoded data removed]",
            "text/plain": [
              "<Figure size 1200x600 with 2 Axes>"
            ]
          },
          "metadata": {},
          "output_type": "display_data"
        }
      ],
      "source": [
        "distribution_plot(clean_df['Stress_Level'])"
      ]
    },
    {
      "cell_type": "markdown",
      "metadata": {},
      "source": [
        "### 11. Weight"
      ]
    },
    {
      "cell_type": "code",
      "execution_count": 121,
      "metadata": {},
      "outputs": [
        {
          "data": {
            "image/png": "[encoded data removed]",
            "text/plain": [
              "<Figure size 1200x600 with 2 Axes>"
            ]
          },
          "metadata": {},
          "output_type": "display_data"
        }
      ],
      "source": [
        "distribution_plot(clean_df['Weight'])"
      ]
    },
    {
      "cell_type": "markdown",
      "metadata": {
        "id": "9fcLad6ndCnR"
      },
      "source": [
        "## **4. Menentukan Distribusi**\n",
        "Menentukan distribusi setiap kolom numerik menggunakan hasil visualisasi histogram. Apakah kolom tersebut berdistribusi normal? Jika bukan, terdistribusi seperti apa kolom tersebut?\n"
      ]
    },
    {
      "cell_type": "markdown",
      "metadata": {},
      "source": [
        "# **Permasalahan Analisis**\n",
        "Mira adalah seorang peneliti kesehatan yang bekerja di sebuah lembaga riset medis yang terkemuka. Sebagai bagian dari tugasnya, Mira memiliki akses ke sebuah dataset yang berisi informasi tentang profil kesehatan dan gaya hidup dari sejumlah individu. Mira bertanggung jawab untuk melakukan analisis statistika terhadap dataset ini guna mendapatkan pemahaman yang lebih baik tentang faktor-faktor yang mempengaruhi kesehatan dan kualitas hidup individu. Selain itu, Mira juga diminta untuk mengidentifikasi pola dan hubungan yang signifikan antara variabel-variabel tersebut, serta untuk menjawab berbagai pertanyaan penelitian yang diajukan oleh lembaga riset.\n",
        "\n",
        "Atribut: Age, Income, Gender, Education, Stress_Level, Exercise_Hours_Per_Week, Cholesterol_Level, Weight,Height, Blood_Pressure, Health_Status\n",
        "\n",
        "Gunakan alpha = 0.05"
      ]
    },
    {
      "cell_type": "markdown",
      "metadata": {},
      "source": [
        "## **5. Hipotesis 1 sampel**"
      ]
    },
    {
      "cell_type": "markdown",
      "metadata": {},
      "source": [
        "### Soal 1\n",
        "Lembaga riset saat ini sedang mempertanyakan data berat badan individu yang disimpan untuk kepentingan riset lanjutan. Identifikasilah apakah rata-rata berat badan pasien diatas 65 kg?"
      ]
    },
    {
      "cell_type": "markdown",
      "metadata": {},
      "source": [
        "### Hipotesis\n",
        "#### 1. H<sub>0</sub> : &mu; = 65\n",
        "#### 2. H<sub>1</sub> : &mu; > 65\n",
        "\n",
        "Uji t digunakan karena variansi populasi (&sigma;<sup>2</sup>) tidak diketahui."
      ]
    },
    {
      "cell_type": "code",
      "execution_count": 18,
      "metadata": {},
      "outputs": [
        {
          "name": "stdout",
          "output_type": "stream",
          "text": [
            "t statistic is 22.713630081680762\n",
            "Critical Value is -1.6456410768408434\n",
            "p-value is 1.6427507343070156e-114\n",
            "t statistic > t critical\n",
            "H0 is rejected\n"
          ]
        }
      ],
      "source": [
        "n = len(clean_df['Weight'])\n",
        "v = n-1\n",
        "alpha = 0.05\n",
        "critical_value = t.ppf(alpha, v)\n",
        "\n",
        "x_bar = getMean(clean_df['Weight'])\n",
        "mu_zero = 65\n",
        "s = getStd(clean_df['Weight'])\n",
        "t_statistic = (x_bar - mu_zero) / (s / math.sqrt(n))\n",
        "\n",
        "p_value = norm.sf(abs(t_statistic))\n",
        "\n",
        "print(f\"t statistic is {t_statistic}\")\n",
        "print(f\"Critical Value is {critical_value}\")\n",
        "print(f\"p-value is {p_value}\")\n",
        "if t_statistic > critical_value:\n",
        "    print(\"t statistic > t critical\")\n",
        "    print(\"H0 is rejected\")\n",
        "else:\n",
        "    print(\"t statistic < t critical\")\n",
        "    print(\"H0 is accepted\")"
      ]
    },
    {
      "cell_type": "markdown",
      "metadata": {},
      "source": [
        "### Soal 2\n",
        "Tekanan darah sistole yang normal berada pada rentang 120 mmHg. Lembaga riset\n",
        "perlu untuk memastikan apakah data individu yang diukur cukup normal. Periksalah\n",
        "apakah rata-rata tekanan darah sistole bernilai 120 mmHg?"
      ]
    },
    {
      "cell_type": "markdown",
      "metadata": {},
      "source": [
        "### Hipotesis\n",
        "#### 1. H<sub>0</sub> : &mu; = 120\n",
        "#### 2. H<sub>1</sub> : &mu; $\\neq$ 120\n",
        "\n",
        "Uji t digunakan karena variansi populasi (&sigma;<sup>2</sup>) tidak diketahui."
      ]
    },
    {
      "cell_type": "code",
      "execution_count": 19,
      "metadata": {},
      "outputs": [
        {
          "name": "stdout",
          "output_type": "stream",
          "text": [
            "t statistic is -0.6270834099611295\n",
            "Critical Value is -1.961190084650902\n",
            "p-value is 0.2653022806484924\n",
            "t statistic > t critical\n",
            "H0 is rejected\n"
          ]
        }
      ],
      "source": [
        "n = len(clean_df['Blood_Pressure'])\n",
        "v = n-1\n",
        "alpha = 0.05\n",
        "critical_value = t.ppf(alpha/2, v)\n",
        "\n",
        "x_bar = getMean(clean_df['Blood_Pressure'])\n",
        "mu_zero = 120\n",
        "s = getStd(clean_df['Blood_Pressure'])\n",
        "t_statistic = (x_bar - mu_zero) / (s / math.sqrt(n))\n",
        "\n",
        "p_value = norm.sf(abs(t_statistic))\n",
        "\n",
        "print(f\"t statistic is {t_statistic}\")\n",
        "print(f\"Critical Value is {critical_value}\")\n",
        "print(f\"p-value is {p_value}\")\n",
        "if t_statistic > critical_value or t_statistic < 0 - critical_value:\n",
        "    print(\"t statistic > t critical\")\n",
        "    print(\"H0 is rejected\")\n",
        "else:\n",
        "    print(\"t statistic < t critical\")\n",
        "    print(\"H0 is accepted\")"
      ]
    },
    {
      "cell_type": "markdown",
      "metadata": {},
      "source": [
        "### Soal 3\n",
        "Periksalah apakah data 200 individu pertama pengujian (baris teratas) memiliki rata-rata\n",
        "waktu olahraga per minggu tidak sama dengan 15 jam?"
      ]
    },
    {
      "cell_type": "markdown",
      "metadata": {},
      "source": [
        "### Hipotesis\n",
        "#### 1. H<sub>0</sub> : &mu; = 15\n",
        "#### 2. H<sub>1</sub> : &mu; $\\neq$ 15\n",
        "\n",
        "Uji t digunakan karena variansi populasi (&sigma;<sup>2</sup>) tidak diketahui."
      ]
    },
    {
      "cell_type": "code",
      "execution_count": 20,
      "metadata": {},
      "outputs": [
        {
          "name": "stdout",
          "output_type": "stream",
          "text": [
            "t statistic is -14.232878849292506\n",
            "Critical Value is -1.9719565442493954\n",
            "p-value is 2.8637269782058042e-46\n",
            "t statistic > t critical\n",
            "H0 is rejected\n"
          ]
        }
      ],
      "source": [
        "selected_data = clean_df[:200]\n",
        "\n",
        "n = len(selected_data['Exercise_Hours_Per_Week'])\n",
        "v = n-1\n",
        "alpha = 0.05\n",
        "critical_value = t.ppf(alpha/2, v)\n",
        "\n",
        "x_bar = getMean(selected_data['Exercise_Hours_Per_Week'])\n",
        "mu_zero = 15\n",
        "s = getStd(selected_data['Exercise_Hours_Per_Week'])\n",
        "t_statistic = (x_bar - mu_zero) / (s / math.sqrt(n))\n",
        "\n",
        "p_value = norm.sf(abs(t_statistic))\n",
        "\n",
        "print(f\"t statistic is {t_statistic}\")\n",
        "print(f\"Critical Value is {critical_value}\")\n",
        "print(f\"p-value is {p_value}\")\n",
        "if t_statistic > critical_value or t_statistic < 0 - critical_value:\n",
        "    print(\"t statistic > t critical\")\n",
        "    print(\"H0 is rejected\")\n",
        "else:\n",
        "    print(\"t statistic < t critical\")\n",
        "    print(\"H0 is accepted\")"
      ]
    },
    {
      "cell_type": "markdown",
      "metadata": {},
      "source": [
        "### Soal 4\n",
        "Apakah penduduk dengan pendapatan yang lebih besar dari Rp 7.500.000,00 tidak\n",
        "sama dengan 30% dari data keseluruhan individu?"
      ]
    },
    {
      "cell_type": "markdown",
      "metadata": {},
      "source": [
        "### Hipotesis\n",
        "#### 1. H<sub>0</sub> : p = 0.3\n",
        "#### 2. H<sub>1</sub> : p $\\neq$ 0.3\n",
        "\n",
        "Digunakan uji statistik binomial karena kolom income merupakan aproksimasi distribusi normal"
      ]
    },
    {
      "cell_type": "code",
      "execution_count": 14,
      "metadata": {},
      "outputs": [
        {
          "name": "stdout",
          "output_type": "stream",
          "text": [
            "P-Value is 8.072241077893298e-107\n",
            "Alpha is 0.05\n",
            "P-Value is less or equal to alpha\n",
            "H0 is rejected\n"
          ]
        }
      ],
      "source": [
        "alpha = 0.05\n",
        "p0 = 0.3\n",
        "n = len(clean_df['Income'])\n",
        "x = 0\n",
        "for income in clean_df['Income']:\n",
        "    if income > 7500000:\n",
        "        x = x + 1\n",
        "\n",
        "# x = 182 < 30% * 1937, Use P = 2P(X ≤ x)\n",
        "\n",
        "P_Value = 0\n",
        "\n",
        "for i in range (x+1):\n",
        "    P_Value = binom.pmf(i, n, p0)\n",
        "\n",
        "P_Value = P_Value * 2\n",
        "print(f\"P-Value is {P_Value}\")\n",
        "print(\"Alpha is 0.05\")\n",
        "\n",
        "if P_Value <= alpha:\n",
        "    # Reject\n",
        "    print(\"P-Value is less or equal to alpha\")\n",
        "    print(\"H0 is rejected\")\n",
        "else:\n",
        "    # Accept\n",
        "    print(\"P-Value is greater than alpha\")\n",
        "    print(\"H0 is accepted\")"
      ]
    },
    {
      "cell_type": "markdown",
      "metadata": {},
      "source": [
        "## **6. Hipotesis 2 sampel**"
      ]
    },
    {
      "cell_type": "markdown",
      "metadata": {},
      "source": [
        "### Soal 1\n",
        "Periksa apakah rata-rata berat badan individu yang lebih awal masuk data penelitian\n",
        "sama dengan rata-rata berat badan individu yang masuk baru saja?"
      ]
    }
  ],
  "metadata": {
    "colab": {
      "collapsed_sections": [
        "M4N9sjz4Ue2e",
        "x_RoltQGNeHs",
        "NrDLKjFER9yK",
        "n8-UeFo5Vcz7",
        "yEI_Sk1nWxT1",
        "xSc6jtmlSX-6",
        "WgPFHCsXTI9i",
        "tjtoOlSxT1Gj",
        "mUXfzoFQXI4i",
        "7pr-UHnqXcKa",
        "JnbY-_DPXyzx"
      ],
      "include_colab_link": true,
      "provenance": []
    },
    "kernelspec": {
      "display_name": "Python 3",
      "name": "python3"
    },
    "language_info": {
      "codemirror_mode": {
        "name": "ipython",
        "version": 3
      },
      "file_extension": ".py",
      "mimetype": "text/x-python",
      "name": "python",
      "nbconvert_exporter": "python",
      "pygments_lexer": "ipython3",
      "version": "3.10.6"
    }
  },
  "nbformat": 4,
  "nbformat_minor": 0
}
